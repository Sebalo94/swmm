{
 "cells": [
  {
   "cell_type": "markdown",
   "metadata": {},
   "source": [
    "## Python wrapper for SWMM\n",
    "Test case for Gottesacker model by Zhao Chen.\n",
    "***\n",
    "**Goals:**\n",
    "<br>- Writes SWMM project.inp files using a template (template.inp) - searches for placeholder strings in the template and replaces them with data from a pandas dataframe. Dataframes can be created manually, or loaded from .csv files.\n",
    "<br>- Run SWMM using the specified project.inp file\n",
    "<br>- Import results from project.rpt file as pandas dataframes\n",
    "***\n",
    "**Files needed:**\n",
    "<br>- template.inp\n",
    "<br>- swmm5.exe\n",
    "<br>- swmm5.dll\n",
    "<br>\n",
    "**Packages needed:**\n",
    "<br>- pandas\n",
    "<br>-"
   ]
  },
  {
   "cell_type": "code",
   "execution_count": 113,
   "metadata": {},
   "outputs": [],
   "source": [
    "import pandas as pd\n",
    "import numpy as np"
   ]
  },
  {
   "cell_type": "code",
   "execution_count": 274,
   "metadata": {},
   "outputs": [],
   "source": [
    "#File structure and imports:\n",
    "\n",
    "template_filename = 'template.inp'                                          #filename for template .inp file to import\n",
    "input_filename =    'test.inp'                                              #filename to write new .inp file to\n",
    "data_filename =     'junctions.csv'                                         #filename with data to insert into the .inp file\n",
    "placeholder =       'junctions'                                             #placeholder string to replace with data\n",
    "\n",
    "template =   pd.read_csv(template_filename, header=None, skip_blank_lines=False) #import template .inp file to dataframe\n",
    "temp =       template.copy()                                                     #make a copy of the template, so that modifications won't change the original\n",
    "data =       pd.read_csv(data_filename,     header=1)                            #import data to dataframe that has separate columns\n"
   ]
  },
  {
   "cell_type": "code",
   "execution_count": 275,
   "metadata": {},
   "outputs": [
    {
     "data": {
      "text/html": [
       "<div>\n",
       "<style scoped>\n",
       "    .dataframe tbody tr th:only-of-type {\n",
       "        vertical-align: middle;\n",
       "    }\n",
       "\n",
       "    .dataframe tbody tr th {\n",
       "        vertical-align: top;\n",
       "    }\n",
       "\n",
       "    .dataframe thead th {\n",
       "        text-align: right;\n",
       "    }\n",
       "</style>\n",
       "<table border=\"1\" class=\"dataframe\">\n",
       "  <thead>\n",
       "    <tr style=\"text-align: right;\">\n",
       "      <th></th>\n",
       "      <th>Name</th>\n",
       "      <th>InvertElev</th>\n",
       "      <th>MaxDepth</th>\n",
       "      <th>InitDepth</th>\n",
       "      <th>SurDepth</th>\n",
       "      <th>Aponded</th>\n",
       "    </tr>\n",
       "  </thead>\n",
       "  <tbody>\n",
       "    <tr>\n",
       "      <th>0</th>\n",
       "      <td>1001</td>\n",
       "      <td>1900.0000</td>\n",
       "      <td>0</td>\n",
       "      <td>0</td>\n",
       "      <td>200</td>\n",
       "      <td>0</td>\n",
       "    </tr>\n",
       "    <tr>\n",
       "      <th>1</th>\n",
       "      <td>1002</td>\n",
       "      <td>1731.3889</td>\n",
       "      <td>0</td>\n",
       "      <td>0</td>\n",
       "      <td>200</td>\n",
       "      <td>0</td>\n",
       "    </tr>\n",
       "    <tr>\n",
       "      <th>2</th>\n",
       "      <td>1003</td>\n",
       "      <td>1624.0892</td>\n",
       "      <td>0</td>\n",
       "      <td>0</td>\n",
       "      <td>200</td>\n",
       "      <td>0</td>\n",
       "    </tr>\n",
       "    <tr>\n",
       "      <th>3</th>\n",
       "      <td>1004</td>\n",
       "      <td>1516.7895</td>\n",
       "      <td>0</td>\n",
       "      <td>0</td>\n",
       "      <td>200</td>\n",
       "      <td>0</td>\n",
       "    </tr>\n",
       "    <tr>\n",
       "      <th>4</th>\n",
       "      <td>1005</td>\n",
       "      <td>1409.4897</td>\n",
       "      <td>0</td>\n",
       "      <td>0</td>\n",
       "      <td>200</td>\n",
       "      <td>0</td>\n",
       "    </tr>\n",
       "  </tbody>\n",
       "</table>\n",
       "</div>"
      ],
      "text/plain": [
       "   Name  InvertElev  MaxDepth  InitDepth  SurDepth  Aponded\n",
       "0  1001   1900.0000         0          0       200        0\n",
       "1  1002   1731.3889         0          0       200        0\n",
       "2  1003   1624.0892         0          0       200        0\n",
       "3  1004   1516.7895         0          0       200        0\n",
       "4  1005   1409.4897         0          0       200        0"
      ]
     },
     "execution_count": 275,
     "metadata": {},
     "output_type": "execute_result"
    }
   ],
   "source": [
    "data.head()"
   ]
  },
  {
   "cell_type": "code",
   "execution_count": 276,
   "metadata": {},
   "outputs": [],
   "source": [
    "#Get row index and location of placeholder:\n",
    "ind = temp.index[temp[0]=='junctions']                      #df.index gets the index, df[0] looks in column 0 (returns an index object not just the name)\n",
    "loc = temp.index.get_loc(ind[0])                            #get the integer position of the index specified (need to select first item (index name) in index object)\n",
    "\n",
    "#Convert data to formatted line strings:\n",
    "\n",
    "#Create format string based on template file:\n",
    "fmt_line = temp[0].loc[loc-1]                            #get string to model formatting on (the row of dashes in the template file)\n",
    "cols = fmt_line.split()                                  #split string into chunks separated by whitespace\n",
    "l = [len(item) for item in cols]                         #get length of each column\n",
    "form = ''                                                #create empty string to fill\n",
    "form = [form + '{d['+ str(i) + ']:<' + str(l[i]+1) + '}' for i in range(len(l))]  #concatenate formatting info and return a list of format strings (one per column)\n",
    "form = ''.join(form)                                     #join format strings into one for entire row\n",
    "\n",
    "#Insert values into format string\n",
    "data_strings = pd.DataFrame(columns=[0])            #create empty dataframe to fill\n",
    "for ind in data.index:                              #loop over lines of data\n",
    "    dl = data.loc[ind].tolist()                     #get line of data to be formatted\n",
    "    dl[0] = int(dl[0])                              #make sure name column is an integer not a float (WHY is this not automatic?)\n",
    "    line = form.format(d=dl)                        #insert each item in list into format string\n",
    "    data_strings.loc[ind] = line                    #insert line string into new dataframe\n"
   ]
  },
  {
   "cell_type": "code",
   "execution_count": 277,
   "metadata": {},
   "outputs": [
    {
     "name": "stdout",
     "output_type": "stream",
     "text": [
      "                                                     0\n",
      "177  ;;Name           InvertElev MaxDepth   InitDep...\n",
      "178  ;;-------------- ---------- ---------- -------...\n",
      "179  1001             1900.0     0.0        0.0    ...\n",
      "180  1002             1731.3889  0.0        0.0    ...\n",
      "181  1003             1624.0892  0.0        0.0    ...\n",
      "182  1004             1516.7895  0.0        0.0    ...\n",
      "183  1005             1409.4897  0.0        0.0    ...\n",
      "184  1006             1900.0     0.0        0.0    ...\n",
      "185  1007             1710.6706  0.0        0.0    ...\n",
      "186  1008             1587.5349  0.0        0.0    ...\n",
      "187  1009             1464.3991  0.0        0.0    ...\n",
      "188  1010             1341.2634  0.0        0.0    ...\n",
      "189  1011             1700.0     0.0        0.0    ...\n",
      "190  1012             1551.6158  0.0        0.0    ...\n",
      "191  1013             1441.628   0.0        0.0    ...\n",
      "192  1014             1331.6403  0.0        0.0    ...\n",
      "193  1015             1221.6526  0.0        0.0    ...\n",
      "194  1016             1700.0     0.0        0.0    ...\n",
      "195  1017             1492.7525  0.0        0.0    ...\n",
      "196  1018             1360.0     0.0        0.0    ...\n",
      "197  1019             1248.391   0.0        0.0    ...\n",
      "198  1020             1136.7819  0.0        0.0    ...\n",
      "199  1021             1446.0059  0.0        0.0    ...\n",
      "200  1022             1300.0     0.0        0.0    ...\n",
      "201  1023             1280.0     0.0        0.0    ...\n",
      "202  1024             1270.0     0.0        0.0    ...\n",
      "203  1025             1240.0     0.0        0.0    ...\n",
      "204  1026             1210.0     0.0        0.0    ...\n",
      "205  1027             1126.7879  0.0        0.0    ...\n",
      "206  1028             1105.0     0.0        0.0    ...\n",
      "207  1029             1097.8692  0.0        0.0    ...\n",
      "208  1030             1074.5355  0.0        0.0    ...\n",
      "209  1031             1051.2017  0.0        0.0    ...\n",
      "210  1032             1027.868   0.0        0.0    ...\n",
      "211  1033             1142.0     0.0        0.0    ...\n",
      "212  1034             1800.0     0.0        0.0    ...\n",
      "213  1035             1600.0     0.0        0.0    ...\n",
      "214  1036             1800.0     0.0        0.0    ...\n",
      "215  1037             1600.0     0.0        0.0    ...\n",
      "216  1038             1400.0     0.0        0.0    ...\n",
      "217  1039             1440.0     0.0        0.0    ...\n",
      "218  1040             1340.0     0.0        0.0    ...\n",
      "219  1041             1340.0     0.0        0.0    ...\n",
      "220  1042             1290.0     0.0        0.0    ...\n",
      "221  1043             1280.0     0.0        0.0    ...\n",
      "222  1044             1240.0     0.0        0.0    ...\n"
     ]
    }
   ],
   "source": [
    "#Replace placeholder with new data:\n",
    "\n",
    "#Split original df into two, one for everything before the placeholder, one for everything after:\n",
    "dfA = temp[temp.index < loc]                                    #create df for everything above placeholder\n",
    "dfB = temp[temp.index > loc]                                    #create df for everything below placeholder\n",
    "\n",
    "#Append the three dfs to each other (part above, part to insert, part below):\n",
    "temp = dfA.append( data_strings, ignore_index=True)             #append additional part to top part\n",
    "temp = temp.append(dfB,       ignore_index=True)                #append bottom part to new df\n",
    "\n",
    "print(temp.iloc[loc-2:loc+len(data_strings)])                   #print updated section\n"
   ]
  },
  {
   "cell_type": "code",
   "execution_count": 278,
   "metadata": {},
   "outputs": [],
   "source": [
    "temp.to_csv(input_filename, header=False, index=False)                     #write dataframe to .inp text file with specified name"
   ]
  },
  {
   "cell_type": "code",
   "execution_count": null,
   "metadata": {},
   "outputs": [],
   "source": []
  }
 ],
 "metadata": {
  "kernelspec": {
   "display_name": "Python 3",
   "language": "python",
   "name": "python3"
  },
  "language_info": {
   "codemirror_mode": {
    "name": "ipython",
    "version": 3
   },
   "file_extension": ".py",
   "mimetype": "text/x-python",
   "name": "python",
   "nbconvert_exporter": "python",
   "pygments_lexer": "ipython3",
   "version": "3.6.2"
  }
 },
 "nbformat": 4,
 "nbformat_minor": 2
}
