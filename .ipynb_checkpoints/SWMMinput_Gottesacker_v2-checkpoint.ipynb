{
 "cells": [
  {
   "cell_type": "markdown",
   "metadata": {},
   "source": [
    "## Python wrapper for SWMM\n",
    "Test case for Gottesacker model by Zhao Chen.\n",
    "***\n",
    "**Goals:**\n",
    "<br>- Writes SWMM project.inp files using a template (template.inp) - searches for placeholder strings in the template and replaces them with data from a pandas dataframe. Dataframes can be created manually, or loaded from .csv files.\n",
    "<br>- Run SWMM using the specified project.inp file\n",
    "<br>- Import results from project.rpt file as pandas dataframes\n",
    "***\n",
    "**Files needed:**\n",
    "<br>- template.inp\n",
    "<br>- swmm5.exe\n",
    "<br>- swmm5.dll\n",
    "<br>\n",
    "**Packages needed:**\n",
    "<br>- pandas\n",
    "<br>- numpy\n",
    "<br>- subprocess"
   ]
  },
  {
   "cell_type": "code",
   "execution_count": 163,
   "metadata": {},
   "outputs": [],
   "source": [
    "import pandas as pd\n",
    "import numpy as np\n",
    "import subprocess"
   ]
  },
  {
   "cell_type": "code",
   "execution_count": 158,
   "metadata": {},
   "outputs": [],
   "source": [
    "#File structure and naming:\n",
    "\n",
    "template_filename = 'template.inp'                                          #filename for template .inp file to import\n",
    "input_filename =    'project.inp'                                              #filename to write new .inp file to\n",
    "data_filenames =    ['junctions.csv', 'conduits.csv']                       #csv filenames with data to insert into the .inp file\n",
    "placeholders =      ['junctions', 'conduits']                               #placeholder strings to search for and replace with data\n"
   ]
  },
  {
   "cell_type": "code",
   "execution_count": 159,
   "metadata": {},
   "outputs": [],
   "source": [
    "def import_template(template_filename):\n",
    "    '''Imports the template.inp file into a pandas dataframe.\n",
    "    Inputs:\n",
    "    template_filename: filename/path for the template.inp file\n",
    "                       this must be a text file correctly formatted for SWMM, with placeholder strings in the sections to be edited\n",
    "                       to create a sample template file, use the tutorial1.inp file from the SWMM documentation, and replace the data\n",
    "                       in the [JUNCTIONS] section with the word 'junctions'\n",
    "    Outputs:\n",
    "    template:          pandas dataframe of the template file, with one column, and a line for each line of text.'''\n",
    "    \n",
    "    template =   pd.read_csv(template_filename, header=None, skip_blank_lines=False) #import template .inp file to dataframe\n",
    "    return template\n",
    "    "
   ]
  },
  {
   "cell_type": "code",
   "execution_count": 160,
   "metadata": {},
   "outputs": [],
   "source": [
    "def import_data(data_filename):\n",
    "    '''Imports data from a csv file into a pandas dataframe with columns.\n",
    "    Inputs:\n",
    "    data_filename:     filename/path for the data.csv file for a section\n",
    "                       this must be a csv file of data formatted with the first row as a comment row, \n",
    "                       and the second row with the correct SWMM column headers for that section \n",
    "                       (see SWMM documentation for description of data in each section)\n",
    "    Outputs:\n",
    "    template:          pandas dataframe of the data file, with columns, and a line for each item'''\n",
    "    \n",
    "    data =  pd.read_csv(data_filename,     header=1)                            #import data to dataframe that has separate columns\n",
    "    return data"
   ]
  },
  {
   "cell_type": "code",
   "execution_count": 161,
   "metadata": {},
   "outputs": [],
   "source": [
    "def insert_data(template, placeholder, data, show=False):\n",
    "    '''Inserts data from a pandas dataframe into a template dataframe by replacing the section placeholder in the template.\n",
    "    The template file and data file must be read in first. Best to make a copy of the template.\n",
    "    \n",
    "    Inputs:\n",
    "    template:     pandas dataframe with one column, and one line per line of text in the template input file.\n",
    "                  NOTE: each section that will be edited MUST have a section placeholder string at the desired insert location, \n",
    "                  and a section header string with dashes for the column spacing, like so: ;;---- ------ ------\n",
    "    placeholder:  string corresponding to the placeholder string to be replaced\n",
    "    data:         pandas dataframe with rows of data split into columns, to be inserted at the placeholder location\n",
    "                  NOTE: the first column will get converted to an integer\n",
    "    show:         True/False. If True, prints the updated section\n",
    "    \n",
    "    Outputs:\n",
    "    new:          pandas dataframe with one column, and one line per line of text in the desired output file, \n",
    "                  with the new data inserted where the placeholder was in the original file\n",
    "    '''\n",
    "    \n",
    "    #Get row index and location of placeholder:\n",
    "    ind = template.index[template[0]==placeholder]                  #df.index gets the index, df[0] looks in column 0 (returns an index object not just the name)\n",
    "    loc = template.index.get_loc(ind[0])                        #get the integer position of the index specified (need to select first item (index name) in index object)\n",
    "\n",
    "    #Convert data to formatted line strings:\n",
    "    #Create format string based on template file:\n",
    "    fmt_line = template[0].loc[loc-1]                           #get string to model formatting on (the row of dashes in the template file)\n",
    "    cols = fmt_line.split()                                     #split string into chunks separated by whitespace\n",
    "    l = [len(item) for item in cols]                            #get length of each column\n",
    "    form = ''                                                   #create empty string to fill\n",
    "    form = [form + '{d['+ str(i) + ']:<' + str(l[i]+1) + '}' for i in range(len(l))]  #concatenate formatting info and return a list of format strings (one per column)\n",
    "    form = ''.join(form)                                        #join format strings into one for entire row\n",
    "\n",
    "    #Insert values into format string\n",
    "    data = data.round(6)                                #round data to 6 decimal places (shouldn't have to do this - why?)\n",
    "    data_strings = pd.DataFrame(columns=[0])            #create empty dataframe to fill\n",
    "    for ind in data.index:                              #loop over lines of data\n",
    "        dl = data.loc[ind].tolist()                     #get line of data to be formatted\n",
    "        dl[0] = int(dl[0])                              #make sure name column is an integer not a float (WHY is this not automatic?)\n",
    "        line = form.format(d=dl)                        #insert each item in list into format string\n",
    "        data_strings.loc[ind] = line                    #insert line string into new dataframe\n",
    "\n",
    "    #Replace placeholder with new data strings:\n",
    "    #Split original df into two, one for everything before the placeholder, one for everything after:\n",
    "    dfA = template[template.index < loc]                            #create df for everything above placeholder\n",
    "    dfB = template[template.index > loc]                            #create df for everything below placeholder\n",
    "\n",
    "    #Append the three dfs to each other (part above, part to insert, part below):\n",
    "    new = dfA.append(data_strings, ignore_index=True)               #append additional part to top part\n",
    "    new = new.append(dfB,          ignore_index=True)               #append bottom part to new df\n",
    "    \n",
    "    if show==True:\n",
    "        print(new.iloc[loc-2:loc+len(data_strings)])               #print updated section if desired\n",
    "\n",
    "    return new"
   ]
  },
  {
   "cell_type": "code",
   "execution_count": 162,
   "metadata": {},
   "outputs": [],
   "source": [
    "#Insert data into desired sections:\n",
    "\n",
    "template = import_template(template_filename)                               #import template file from txt\n",
    "for i in range(len(placeholders)):                                          #loop over list of placeholders\n",
    "    data = import_data(data_filenames[i])                                   #import data to insert from csv\n",
    "    template = insert_data(template,  placeholders[i], data)                #replace placeholder string with data\n",
    "    template.to_csv(input_filename, header=False, index=False)              #write dataframe to .inp text file with specified name"
   ]
  },
  {
   "cell_type": "code",
   "execution_count": null,
   "metadata": {},
   "outputs": [
    {
     "name": "stdout",
     "output_type": "stream",
     "text": [
      "b'\\r\\n'\n",
      "b'... EPA-SWMM 5.0 (Build 5.0.022)\\r\\n'\n",
      "b'\\r\\n'\n",
      "b' o  Retrieving project data\\r\\n'\n"
     ]
    }
   ],
   "source": [
    "#Run SWMM with new .inp and generate .rpt and .out files\n",
    "\n",
    "#Define program & file names to use:\n",
    "exe = 'swmm5.exe'\n",
    "inputfile = 'project.inp'\n",
    "reportfile = 'project.rpt'\n",
    "outputfile = 'project.out'\n",
    "\n",
    "#Run SWMM and print process:\n",
    "p = subprocess.Popen([exe, inputfile, reportfile, outputfile], stdout=subprocess.PIPE, universal_newlines=True)          #run SWMM\n",
    "for line in p.stdout:\n",
    "    print(line)"
   ]
  },
  {
   "cell_type": "code",
   "execution_count": null,
   "metadata": {},
   "outputs": [],
   "source": []
  },
  {
   "cell_type": "code",
   "execution_count": 189,
   "metadata": {},
   "outputs": [
    {
     "name": "stdout",
     "output_type": "stream",
     "text": [
      "Name             2039\n",
      "InNode           1036\n",
      "OutNode          1037\n",
      "Length         547.12\n",
      "ManningN     0.029422\n",
      "InOffset            *\n",
      "OutOffset           *\n",
      "InitFlow            0\n",
      "MaxFlow             0\n",
      "Name: 37, dtype: object\n",
      "0.029422\n",
      "[2039, 1036, 1037, 547.12, 0.029422, '*', '*', 0, 0]\n"
     ]
    }
   ],
   "source": [
    "#Problem with floats in data:\n",
    "\n",
    "data = pd.read_csv('conduits.csv', header=1)\n",
    "data = data.round(6)\n",
    "dl = data.loc[37]\n",
    "print(dl)\n",
    "n = data.loc[37].ManningN\n",
    "print(n)\n",
    "\n",
    "\n",
    "ds = dl.tolist()    #this is where the problem is - adds extra digits to ManningN column - but why?\n",
    "print(ds)\n"
   ]
  },
  {
   "cell_type": "code",
   "execution_count": null,
   "metadata": {},
   "outputs": [],
   "source": []
  }
 ],
 "metadata": {
  "kernelspec": {
   "display_name": "Python 3",
   "language": "python",
   "name": "python3"
  },
  "language_info": {
   "codemirror_mode": {
    "name": "ipython",
    "version": 3
   },
   "file_extension": ".py",
   "mimetype": "text/x-python",
   "name": "python",
   "nbconvert_exporter": "python",
   "pygments_lexer": "ipython3",
   "version": "3.6.2"
  }
 },
 "nbformat": 4,
 "nbformat_minor": 2
}
