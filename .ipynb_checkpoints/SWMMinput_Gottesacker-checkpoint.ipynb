{
 "cells": [
  {
   "cell_type": "markdown",
   "metadata": {},
   "source": [
    "## Python wrapper for SWMM\n",
    "Test case for Gottesacker model by Zhao Chen.\n",
    "***\n",
    "**Goals:**\n",
    "<br>- Writes SWMM project.inp files using a template (template.inp) - searches for placeholder strings in the template and replaces them with data from a pandas dataframe. Dataframes can be created manually, or loaded from .csv files.\n",
    "<br>- Run SWMM using the specified project.inp file\n",
    "<br>- Import results from project.rpt file as pandas dataframes\n",
    "***\n",
    "**Files needed:**\n",
    "<br>- template.inp\n",
    "<br>- swmm5.exe\n",
    "<br>- swmm5.dll\n",
    "<br>\n",
    "**Packages needed:**\n",
    "<br>- pandas\n",
    "<br>-"
   ]
  },
  {
   "cell_type": "code",
   "execution_count": 113,
   "metadata": {},
   "outputs": [],
   "source": [
    "import pandas as pd\n",
    "import numpy as np"
   ]
  },
  {
   "cell_type": "code",
   "execution_count": 59,
   "metadata": {},
   "outputs": [],
   "source": [
    "#File structure and imports:\n",
    "\n",
    "template_filename = 'template.inp'                                          #filename for template .inp file to import\n",
    "input_filename =    'test.inp'                                              #filename to write new .inp file to\n",
    "data_filename =     'junctions.csv'                                         #filename with data to insert into the .inp file\n",
    "placeholder =       'junctions'                                             #placeholder string to replace with data\n",
    "\n",
    "template =   pd.read_csv(template_filename, header=None, skip_blank_lines=False) #import template .inp file to dataframe\n",
    "data =       pd.read_csv(data_filename,     header=1)                            #import data to dataframe that has separate columns\n"
   ]
  },
  {
   "cell_type": "code",
   "execution_count": 62,
   "metadata": {},
   "outputs": [
    {
     "data": {
      "text/html": [
       "<div>\n",
       "<style scoped>\n",
       "    .dataframe tbody tr th:only-of-type {\n",
       "        vertical-align: middle;\n",
       "    }\n",
       "\n",
       "    .dataframe tbody tr th {\n",
       "        vertical-align: top;\n",
       "    }\n",
       "\n",
       "    .dataframe thead th {\n",
       "        text-align: right;\n",
       "    }\n",
       "</style>\n",
       "<table border=\"1\" class=\"dataframe\">\n",
       "  <thead>\n",
       "    <tr style=\"text-align: right;\">\n",
       "      <th></th>\n",
       "      <th>Name</th>\n",
       "      <th>InvertElev</th>\n",
       "      <th>MaxDepth</th>\n",
       "      <th>InitDepth</th>\n",
       "      <th>SurDepth</th>\n",
       "      <th>Aponded</th>\n",
       "    </tr>\n",
       "  </thead>\n",
       "  <tbody>\n",
       "    <tr>\n",
       "      <th>0</th>\n",
       "      <td>1001</td>\n",
       "      <td>1900.0000</td>\n",
       "      <td>0</td>\n",
       "      <td>0</td>\n",
       "      <td>200</td>\n",
       "      <td>0</td>\n",
       "    </tr>\n",
       "    <tr>\n",
       "      <th>1</th>\n",
       "      <td>1002</td>\n",
       "      <td>1731.3889</td>\n",
       "      <td>0</td>\n",
       "      <td>0</td>\n",
       "      <td>200</td>\n",
       "      <td>0</td>\n",
       "    </tr>\n",
       "    <tr>\n",
       "      <th>2</th>\n",
       "      <td>1003</td>\n",
       "      <td>1624.0892</td>\n",
       "      <td>0</td>\n",
       "      <td>0</td>\n",
       "      <td>200</td>\n",
       "      <td>0</td>\n",
       "    </tr>\n",
       "    <tr>\n",
       "      <th>3</th>\n",
       "      <td>1004</td>\n",
       "      <td>1516.7895</td>\n",
       "      <td>0</td>\n",
       "      <td>0</td>\n",
       "      <td>200</td>\n",
       "      <td>0</td>\n",
       "    </tr>\n",
       "    <tr>\n",
       "      <th>4</th>\n",
       "      <td>1005</td>\n",
       "      <td>1409.4897</td>\n",
       "      <td>0</td>\n",
       "      <td>0</td>\n",
       "      <td>200</td>\n",
       "      <td>0</td>\n",
       "    </tr>\n",
       "  </tbody>\n",
       "</table>\n",
       "</div>"
      ],
      "text/plain": [
       "   Name  InvertElev  MaxDepth  InitDepth  SurDepth  Aponded\n",
       "0  1001   1900.0000         0          0       200        0\n",
       "1  1002   1731.3889         0          0       200        0\n",
       "2  1003   1624.0892         0          0       200        0\n",
       "3  1004   1516.7895         0          0       200        0\n",
       "4  1005   1409.4897         0          0       200        0"
      ]
     },
     "execution_count": 62,
     "metadata": {},
     "output_type": "execute_result"
    }
   ],
   "source": [
    "data.head()"
   ]
  },
  {
   "cell_type": "code",
   "execution_count": null,
   "metadata": {},
   "outputs": [],
   "source": [
    "#Convert data to formatted line strings:\n",
    "\n",
    "#Create format string based on template file:\n",
    "string = df2[0].loc[0]            #get string to model formatting on (the row of dashes in the template file)\n",
    "cols = string.split()             #split string into chunks separated by whitespace\n",
    "lengths = [len(item) for item in cols]                   #get length of each column\n",
    "form = ''                                                #create empty string to fill\n",
    "form = [form + '{:<' + str(l+1) + '}' for l in lengths]  #concatenate formatting info and return a list of format strings (one per column)\n",
    "form = ''.join(form)                                     #join format strings into one for entire row\n",
    "\n",
    "#Insert data\n",
    "data = df.loc[0]                             #get line of data to be formatted\n",
    "line = form.format(data[0],data[1],data[2])  #insert data into format string\n",
    "print(line)\n",
    "\n"
   ]
  },
  {
   "cell_type": "code",
   "execution_count": 151,
   "metadata": {},
   "outputs": [
    {
     "name": "stdout",
     "output_type": "stream",
     "text": [
      "                                                     0\n",
      "177  ;;Name           InvertElev MaxDepth   InitDep...\n",
      "178  ;;-------------- ---------- ---------- -------...\n",
      "179                                     test test test\n",
      "180                                     test test test\n",
      "181                                                NaN\n",
      "182                                         [OUTFALLS]\n",
      "183  ;;               Invert     Outfall    Stage/T...\n"
     ]
    }
   ],
   "source": [
    "#Replace placeholder with new data:\n",
    "\n",
    "temp = template.copy()                            #make a copy of the template, so that modifications won't change the original\n",
    "df2insert = pd.DataFrame(['test test test','test test test'],index=[179,179.5])  #create a test dataframe to insert\n",
    "\n",
    "#Get row index and location of placeholder:\n",
    "ind = temp.index[temp[0]=='junctions']                        #df.index gets the index, df[0] looks in column 0 (returns an index object not just the name)\n",
    "loc = temp.index.get_loc(ind[0])                                #get the integer position of the index specified (need to select first item (index name) in index object)\n",
    "\n",
    "#Split original df into two, one for everything before the placeholder, one for everything after:\n",
    "dfA = temp[temp.index < loc]                                    #create df for everything above placeholder\n",
    "dfB = temp[temp.index > loc]                                    #create df for everything below placeholder\n",
    "\n",
    "#Append the three dfs to each other (part above, part to insert, part below):\n",
    "temp = dfA.append( df2insert, ignore_index=True)                #append additional part to top part\n",
    "temp = temp.append(dfB,       ignore_index=True)                #append bottom part to new df\n",
    "\n",
    "print(temp.iloc[loc-2:loc+5])\n"
   ]
  },
  {
   "cell_type": "code",
   "execution_count": null,
   "metadata": {},
   "outputs": [],
   "source": [
    "template.to_csv(input_filename, header=False, index=False)                     #write dataframe to .inp text file with specified name"
   ]
  }
 ],
 "metadata": {
  "kernelspec": {
   "display_name": "Python 3",
   "language": "python",
   "name": "python3"
  },
  "language_info": {
   "codemirror_mode": {
    "name": "ipython",
    "version": 3
   },
   "file_extension": ".py",
   "mimetype": "text/x-python",
   "name": "python",
   "nbconvert_exporter": "python",
   "pygments_lexer": "ipython3",
   "version": "3.6.2"
  }
 },
 "nbformat": 4,
 "nbformat_minor": 2
}
