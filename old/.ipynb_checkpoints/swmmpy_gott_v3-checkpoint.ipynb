{
 "cells": [
  {
   "cell_type": "markdown",
   "metadata": {},
   "source": [
    "## Gottesacker SWMM model\n",
    "Based on Zhao Chen's Gottesacker model.\n",
    "***\n",
    "**Functions:**\n",
    "<br>- Writes SWMM project.inp files using a template (template.inp) - searches for placeholder strings in the template and replaces them with data from a pandas dataframe. Dataframes can be created manually, or loaded from .csv files.\n",
    "<br>- Run SWMM using the specified project.inp file\n",
    "<br>\n",
    "<br>\n",
    "**Goals:**\n",
    "<br>- Import results from project.rpt file as pandas dataframes\n",
    "***\n",
    "**Files needed:**\n",
    "<br>- template.inp\n",
    "<br>- swmm5.exe\n",
    "<br>- swmm5.dll\n",
    "<br>\n",
    "<br>\n",
    "**Packages needed:**\n",
    "<br>- pandas\n",
    "<br>- numpy\n",
    "<br>- subprocess\n",
    "<br>- geopandas\n",
    "<br>- shapely\n",
    "<br>- matplotlib\n",
    "<br>- swmmtoolbox\n",
    "\n",
    "**Notes:**\n",
    "<br>- template.inp files must not have any commas in them (otherwise the importer thinks they are column breaks)\n",
    "<br>- placeholders in template.inp files must not have any other characters (even spaces) in the same line\n",
    "<br>- order of placeholder list and data filename list must be the same\n",
    "<br>- common error: the template filename isn't correct, so the insert_data() function can't find the section where it's supposed to insert the data"
   ]
  },
  {
   "cell_type": "code",
   "execution_count": 9,
   "metadata": {},
   "outputs": [],
   "source": [
    "import pandas as pd\n",
    "import numpy as np\n",
    "import subprocess as sb\n",
    "import geopandas as gpd\n",
    "from shapely import geometry as shg\n",
    "from shapely import ops as sho\n",
    "import shapely.speedups\n",
    "import swmmpy as sp\n",
    "import importlib\n",
    "from swmmtoolbox import swmmtoolbox as st\n",
    "import matplotlib.pyplot as plt\n",
    "\n",
    "#Embed matplotlib figures into notebooks:\n",
    "%matplotlib inline"
   ]
  },
  {
   "cell_type": "code",
   "execution_count": 10,
   "metadata": {},
   "outputs": [
    {
     "data": {
      "text/plain": [
       "<module 'swmmpy' from 'C:\\\\Users\\\\Chloe\\\\Documents\\\\GitHub\\\\swmm\\\\swmmpy.py'>"
      ]
     },
     "execution_count": 10,
     "metadata": {},
     "output_type": "execute_result"
    }
   ],
   "source": [
    "importlib.reload(sp)"
   ]
  },
  {
   "cell_type": "code",
   "execution_count": 11,
   "metadata": {},
   "outputs": [],
   "source": [
    "#File structure and naming:\n",
    "\n",
    "exe =               'swmm5.exe'                                             #filename for swmm executable\n",
    "template_filename = 'template3.inp'                                          #filename for template .inp file to import\n",
    "projectname =       'gott3'                                             #name to use when writing new .inp file, and .pt and .out files\n",
    "\n",
    "inputfile =          projectname+'.inp'                                     #filename to write new .inp file to\n",
    "reportfile =         projectname+'.rpt'                                     #filename to write .rpt file to\n",
    "outputfile =         projectname+'.out'                                     #filename to write .out file to\n",
    "\n",
    "data_filenames =    ['junctions.csv', 'conduits.csv', 'coordinates.csv',    #csv filenames with data to insert into the .inp file\n",
    "                    'outfalls.csv', 'subcatchments.csv']    \n",
    "placeholders =      ['junctions', 'conduits', 'coordinates',                #placeholder strings to search for and replace with data\n",
    "                    'outfalls', 'subcatchments']                \n"
   ]
  },
  {
   "cell_type": "code",
   "execution_count": 12,
   "metadata": {},
   "outputs": [],
   "source": [
    "#Write a SWMM input file using a template and data csv files:\n",
    "sp.write_input_from_csv(inputfile, placeholders, data_filenames, template_filename=template_filename)"
   ]
  },
  {
   "cell_type": "code",
   "execution_count": 13,
   "metadata": {},
   "outputs": [
    {
     "name": "stderr",
     "output_type": "stream",
     "text": [
      "C:\\Users\\Chloe\\Anaconda3\\envs\\GK2\\lib\\site-packages\\ipykernel_launcher.py:74: SettingWithCopyWarning: \n",
      "A value is trying to be set on a copy of a slice from a DataFrame.\n",
      "Try using .loc[row_indexer,col_indexer] = value instead\n",
      "\n",
      "See the caveats in the documentation: http://pandas.pydata.org/pandas-docs/stable/indexing.html#indexing-view-versus-copy\n"
     ]
    }
   ],
   "source": [
    "#Modify subcatchments data file:\n",
    "plot=False  #set whether to plot results or not (True/False)\n",
    "\n",
    "#Import data:\n",
    "subcatchments = sp.import_data(data_filenames[-1])                                #import SWMM-formatted subcatchment csv\n",
    "poly_file = r'C:\\Users\\Chloe\\Desktop\\PhD\\GIS maps\\ArcMap files\\subcatchments.shp' #path to subcatchment shapefile\n",
    "polygons = gpd.read_file(poly_file)                                               #import ubcatchment shapefile\n",
    "polygons.sort_values(by='typ',inplace=True)                                       #sort by subcatchment number\n",
    "nodes = sp.import_data('nodes_all.csv')                                           #import csv of all nodes\n",
    "junctions = nodes[nodes.type=='junction']                                         #select only junction-type nodes(not outfalls)\n",
    "points = [shg.Point(junctions.loc[i].X, junctions.loc[i].Y, junctions.loc[i].Z) for i in junctions.index]    #create list of point objects by looping over points in df\n",
    "\n",
    "#Convert to dataframe for easier manipulating later\n",
    "points = pd.DataFrame(points, columns=['geometry']) #create df from points\n",
    "points['X'] = junctions.X                           #add columns for just x, y, z values and name (there must be a better way of doing this?)\n",
    "points['Y'] = junctions.Y\n",
    "points['Z'] = junctions.Z\n",
    "points['Name'] = junctions.Name\n",
    "\n",
    "#Plot all:\n",
    "if plot==True:\n",
    "    polygons.plot()                                                                 #plot subcatchments\n",
    "    pts = [plt.scatter((p.x),(p.y),color='k', s=8) for p in points.geometry]        #plot points\n",
    "    plt.title('All subcatchments and junctions')\n",
    "\n",
    "#Loop over subcatchments to identify draining node:\n",
    "outlets = pd.DataFrame()                                    #create an empty dataframe to store outlet info\n",
    "nsc  = len(polygons.typ)                                    #get number of subcatchments\n",
    "if plot==True:\n",
    "    f,ax = plt.subplots(nsc,1, figsize=(10,nsc*5))          #create figure and axis objects\n",
    "\n",
    "for i in range(nsc):                                        #loop over subcatchments\n",
    "    sc = polygons.typ.iloc[i]                               #get subcatchment index (not the same as i)\n",
    "    #print('calculating for subcatchment ', sc)\n",
    "    #Get current polygon\n",
    "    loc = polygons['typ']==sc                               #get location index of current subcatchment\n",
    "    S = polygons.loc[loc]                                   #get current subcatchment\n",
    "    poly = S.iloc[0].geometry                               #get polygon info for desired polygon\n",
    "    \n",
    "    #Check which points are in selected polygon:\n",
    "    pip = []                                                #create empty list to store points in polygon\n",
    "    for j in points.index:                                  #loop over point indices\n",
    "        if points.iloc[j].geometry.within(poly):            #if the point is in the polygon\n",
    "            pip.append(points.iloc[j])                      #add it to the list\n",
    "    pip = pd.DataFrame(pip)                                 #convert to dataframe for easier manipulation\n",
    "\n",
    "    #Plot:\n",
    "    if plot==True:\n",
    "        polygons.plot(ax=ax[i], facecolor='gray')           #plot the polygons\n",
    "        S.plot(ax=ax[i])                                    #plot selected sub-catchment\n",
    "        pts = [ax[i].scatter((p.x),(p.y),color='k', s=8) for p in points.geometry]          #plot all points\n",
    "        if len(pip)>0:                                                                      #if there are points in the polygon\n",
    "            pts = [ax[i].scatter((p.x),(p.y),color='r', s=8) for p in pip.geometry]         #plot only points in polygon\n",
    "        ax[i].set_title(str(sc))\n",
    "    \n",
    "    #Adjust if several points in one polygon, or if none:\n",
    "    if len(pip)==1:                    #if polygon holds exactly one point\n",
    "        outlet = pip                   #that point is the outlet\n",
    "    if len(pip)>1:                     #if polygon holds more than one point\n",
    "        lowp = pip[pip.Z==min(pip.Z)]  #select lowest-elevation point from points in polygon\n",
    "        outlet = lowp                  #the low point is the outlet\n",
    "        if plot==True:                \n",
    "            ax[i].scatter(lowp.X,lowp.Y, c='r', s=30, marker='X') \n",
    "    if len(pip)==0:                    #if polygon holds no points\n",
    "        c = poly.centroid              #get centroid of polygon\n",
    "        mpo = shg.MultiPoint(points.geometry)  #create a multi-point object for all points under consideration\n",
    "        nearest_geometry = sho.nearest_points(c,mpo)[1]  #calculate the nearest point (note that nearest_points returns two objects, the centroid and the actual point)\n",
    "        nearest = points[points.X==nearest_geometry.x]   #get that point from the detailed points dataframe (by checking the x and y coords)\n",
    "        nearest = nearest[nearest.Y==nearest_geometry.y]\n",
    "        outlet = nearest                                 #the nearest point is the outlet\n",
    "        if plot==True:\n",
    "            ax[i].scatter(nearest.X,nearest.Y, c='r', s=30, marker='X')\n",
    "    #print('number of points in subcatchment: ', len(pip))\n",
    "    outlet['subcatchment'] = sc                         #add column with subcatchment index\n",
    "    outlets = outlets.append(outlet)                    #store outlet info in a dataframe\n",
    "\n",
    "outlets.drop_duplicates(subset=['subcatchment'], keep='first',inplace=True)  #remove duplicate subcatchmets\n",
    "\n",
    "#Plot all to check\n",
    "if plot==True:\n",
    "    f,ax = plt.subplots(figsize=(10,10))            #create subplots\n",
    "    polygons.plot(ax=ax, column='typ')              #plot polygons with different colors for each subcatchment\n",
    "    for i in range(len(polygons)):                  #loop over polygons\n",
    "        poly = polygons.iloc[i]                     #get current polygon\n",
    "        #xy = poly.geometry.centroid                #calculate centroid\n",
    "        xy = poly.geometry.representative_point()   #calculate a point inside polygon\n",
    "        plt.annotate(s=poly.typ, xy=[xy.x,xy.y])    #label polygon\n",
    "    ax.scatter(outlets.X,outlets.Y, c=outlets.subcatchment, cmap='viridis', edgecolors='r') #plot outlets (same color as catchment they drain)\n",
    "    for i in range(len(outlets)):                   #loop over outlets\n",
    "        outlet = outlets.iloc[i]                    #get current outlet\n",
    "        plt.annotate(s=outlet.subcatchment, xy=[outlet.X,outlet.Y])                         #label outlets\n",
    "        \n"
   ]
  },
  {
   "cell_type": "code",
   "execution_count": 14,
   "metadata": {},
   "outputs": [],
   "source": [
    "#Update subcatchments & write new input file:\n",
    "\n",
    "#Update subcatchment data:\n",
    "subcatchments['Outlet'] = outlets.Name.values   #assign newly-calculated outlets to subcatchment dataframe\n",
    "\n",
    "#Import data for other sections:\n",
    "other_data_filenames = ['junctions.csv', 'conduits.csv', 'coordinates.csv','outfalls.csv']    #csv filenames with data to insert into the .inp file        \n",
    "data = []                                #create empty list to store data dataframes\n",
    "for file in other_data_filenames:        #loop over data files\n",
    "    data.append(sp.import_data(file))    #import each file and append it to the list\n",
    "data.append(subcatchments)               #append the modified subcatchments df\n",
    "\n",
    "#Write new input file:    \n",
    "sp.write_input(inputfile, placeholders, data, template_filename='template3.inp')"
   ]
  },
  {
   "cell_type": "code",
   "execution_count": 7,
   "metadata": {},
   "outputs": [
    {
     "name": "stdout",
     "output_type": "stream",
     "text": [
      "\n",
      "\n",
      " o  Retrieving project data\n",
      "\n",
      "... EPA-SWMM 5.1 (Build 5.1.13)\n",
      "\n",
      "\n",
      "\n",
      "\n",
      "\n",
      "... EPA-SWMM completed in 54.00 seconds. There are warnings.\n",
      "\n"
     ]
    }
   ],
   "source": [
    "#Run SWMM with new .inp and generate .rpt and .out files   \n",
    "sp.run(inputfile, reportfile, outputfile)"
   ]
  },
  {
   "cell_type": "code",
   "execution_count": 8,
   "metadata": {},
   "outputs": [
    {
     "name": "stdout",
     "output_type": "stream",
     "text": [
      "  WARNING 04: minimum elevation drop used for Conduit 2043\n",
      "  Continuity Error (%) .....        -0.006\n",
      "Available outflow nodes:\t ['3001' '3002' '3003' '3005']\n",
      "Available data types:\t\t ['Depth_above_invert' 'Hydraulic_head' 'Volume_stored_ponded'\n",
      " 'Lateral_inflow' 'Total_inflow' 'Flow_lost_flooding']\n"
     ]
    },
    {
     "data": {
      "text/plain": [
       "<matplotlib.text.Text at 0x224ff8607b8>"
      ]
     },
     "execution_count": 8,
     "metadata": {},
     "output_type": "execute_result"
    },
    {
     "data": {
      "image/png": "[encoded data removed]",
      "text/plain": [
       "<matplotlib.figure.Figure at 0x2248b5c4f98>"
      ]
     },
     "metadata": {},
     "output_type": "display_data"
    }
   ],
   "source": [
    "#Read outputs:\n",
    "\n",
    "#Report file:\n",
    "flags = ['WARNING','ERROR','Continuity Error']          #set which flags to print (any lines containing these strings will be printed) (continuity error should be <10%)\n",
    "report = pd.read_table(reportfile, header=None)         #read report file into dataframe\n",
    "for flag in flags:                                      #loop over flags\n",
    "    ind = report.index[report[0].str.contains(flag)]    #df.index gets the index, df[0] looks in column 0 (returns an index object not just the name)\n",
    "    if ind.size > 0:                                    #if the flag is found (i.e. the array is not empty)\n",
    "        loc = report.index.get_loc(ind[0])              #get the location index (i.e. the row number)\n",
    "        print(report.iloc[loc].values[0])               #print the line containing that index\n",
    "\n",
    "#Output file:\n",
    "node_info = st.catalog(outputfile, itemtype='node')             #get node info (i.e. what data is available)\n",
    "node_info = pd.DataFrame(node_info, columns=['itemtype','name','datatype'])  #convert to dataframe\n",
    "nodenames = node_info.name.unique()\n",
    "datatypes = node_info.datatype.unique()\n",
    "print('Available outflow nodes:\\t', nodenames)  #display available nodes\n",
    "print('Available data types:\\t\\t',  datatypes)  #display available data types\n",
    "label = '{},{},{}'.format(node_info.itemtype[0], nodenames[2], datatypes[4])  #create label to identify desired data series\n",
    "nodeInflow = st.extract(outputfile, label)   #get node data\n",
    "\n",
    "#Plot:\n",
    "plt.figure(figsize=(20,2))\n",
    "plt.plot(nodeInflow.iloc[10:])  #cut off first few data points where head=0\n",
    "plt.ylabel('node inflow (L/s)')\n",
    "plt.xlabel('time')\n",
    "plt.title(label)"
   ]
  },
  {
   "cell_type": "code",
   "execution_count": null,
   "metadata": {},
   "outputs": [],
   "source": []
  }
 ],
 "metadata": {
  "kernelspec": {
   "display_name": "Python 3",
   "language": "python",
   "name": "python3"
  },
  "language_info": {
   "codemirror_mode": {
    "name": "ipython",
    "version": 3
   },
   "file_extension": ".py",
   "mimetype": "text/x-python",
   "name": "python",
   "nbconvert_exporter": "python",
   "pygments_lexer": "ipython3",
   "version": "3.6.2"
  }
 },
 "nbformat": 4,
 "nbformat_minor": 2
}
