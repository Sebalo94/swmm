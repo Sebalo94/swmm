{
 "cells": [
  {
   "cell_type": "markdown",
   "metadata": {},
   "source": [
    "**SWMM5 tutorial 1**\n",
    "<br>Uses input files from tutorial included in SWMM5 download.\n",
    "<br>https://pyswmm.readthedocs.io/en/stable/tutorial/index.html\n",
    "\n",
    "*Packages needed:*\n",
    "<br>swmmtoolbox\n",
    "<br>pyswmm \n",
    "<br> note: install steps:\n",
    "<br> - use 32-bit python \n",
    "<br> - install using 'pip install pyswmm'\n",
    "<br> - download a 32-bit DLL here: https://www.sts-tutorial.com/sites/downloadCenter.php?vcomp120\n",
    "<br> - put the DLL in the working directory\n",
    "\n",
    "*Files needed:*\n",
    "<br> swmm5.dll     - SWMM model dll\n",
    "<br> tutorial1.inp - SWMM input file\n",
    "<br> vcomp120.dll  - 32-bit dll\n",
    "<br> sta310301.dat - precipitation input data"
   ]
  },
  {
   "cell_type": "code",
   "execution_count": 1,
   "metadata": {},
   "outputs": [],
   "source": [
    "#Import python package\n",
    "from swmmtoolbox import swmmtoolbox as tb\n",
    "import pyswmm as ps\n",
    "from matplotlib import pyplot as plt\n",
    "import numpy as np"
   ]
  },
  {
   "cell_type": "code",
   "execution_count": 13,
   "metadata": {},
   "outputs": [],
   "source": [
    "#Import & run without interacting with the model\n",
    "sim = ps.Simulation('tutorial1.inp')                 #create simulation object\n",
    "sim.execute()                                        #open an input file, run SWMM, close file (writes a new report file and output file)\n",
    "print('\\n', 'run complete with no interaction')"
   ]
  },
  {
   "cell_type": "code",
   "execution_count": 18,
   "metadata": {},
   "outputs": [
    {
     "data": {
      "text/plain": [
       "[['system', 'Air_temperature', 'Air_temperature'],\n",
       " ['system', 'Rainfall', 'Rainfall'],\n",
       " ['system', 'Snow_depth', 'Snow_depth'],\n",
       " ['system', 'Evaporation_infiltration', 'Evaporation_infiltration'],\n",
       " ['system', 'Runoff', 'Runoff'],\n",
       " ['system', 'Dry_weather_inflow', 'Dry_weather_inflow'],\n",
       " ['system', 'Groundwater_inflow', 'Groundwater_inflow'],\n",
       " ['system', 'RDII_inflow', 'RDII_inflow'],\n",
       " ['system', 'User_direct_inflow', 'User_direct_inflow'],\n",
       " ['system', 'Total_lateral_inflow', 'Total_lateral_inflow'],\n",
       " ['system', 'Flow_lost_to_flooding', 'Flow_lost_to_flooding'],\n",
       " ['system', 'Flow_leaving_outfalls', 'Flow_leaving_outfalls'],\n",
       " ['system', 'Volume_stored_water', 'Volume_stored_water'],\n",
       " ['system', 'Evaporation_rate', 'Evaporation_rate'],\n",
       " ['system', 'Potential_PET', 'Potential_PET']]"
      ]
     },
     "execution_count": 18,
     "metadata": {},
     "output_type": "execute_result"
    }
   ],
   "source": [
    "#Import & step through manually with for loop\n",
    "sim = ps.Simulation('tutorial1.inp','report.rpt','output.out')\n",
    "for step in sim:\n",
    "    pass\n",
    "sim.close()\n",
    "\n",
    "tb.catalog('output.out',itemtype='system')"
   ]
  },
  {
   "cell_type": "code",
   "execution_count": 19,
   "metadata": {},
   "outputs": [
    {
     "name": "stdout",
     "output_type": "stream",
     "text": [
      "run complete with interaction\n"
     ]
    }
   ],
   "source": [
    "#Import & step through manually with with statement\n",
    "with ps.Simulation('tutorial1.inp') as sim:        #open the model file using a with statement so that it automatically closes itself when done\n",
    "    for step in sim:                               #for each step\n",
    "        pass                                      #placeholder to use when an indented block is required, but no actions need to happen yet\n",
    "        #print(sim.current_time)                    #print time at current step\n",
    "        #sim.step_advance(3600)                     #specify what timestep to advance before executing the next python command (this can be different than the model timesteps)\n",
    "    #sim.report()                                   #write to report file after simulation - this appears to have a problem\n",
    "print('run complete with interaction')"
   ]
  },
  {
   "cell_type": "code",
   "execution_count": 21,
   "metadata": {},
   "outputs": [
    {
     "name": "stdout",
     "output_type": "stream",
     "text": [
      "96.0\n",
      "True\n",
      "100.0\n",
      "J1 100.0\n",
      "J2 90.0\n",
      "J3 93.0\n",
      "J4 88.0\n",
      "Out1 85.0\n",
      "Run completed\n"
     ]
    }
   ],
   "source": [
    "#Interacting with nodes\n",
    "\n",
    "Q_J1 = []                                       #initialize empty list for node inflow\n",
    "t = []                                      #initialize empty list for timesteps\n",
    "\n",
    "with ps.Simulation('tutorial1.inp') as sim:     #open the model file using a with statement so that it automatically closes itself when done\n",
    "    nodes = ps.Nodes(sim)                       #create node object with all nodes\n",
    "    J1 = nodes['J1']                        #create node object for a specific node\n",
    "    print(J1.invert_elevation)              #get the absolute elev of the bottom of the node & print it\n",
    "    print(J1.is_junction())                 #get & print whether node is a junction or not (as opposed to outfall, divider, or storage)\n",
    "    J1.invert_elevation = 100.0             #change the elevation\n",
    "    print(J1.invert_elevation)\n",
    "    \n",
    "    for node in nodes:                      #for each node\n",
    "        print(node.nodeid, node.invert_elevation)   #print node id & elev\n",
    "    \n",
    "    for step in sim:                        #for each step\n",
    "        pass                               #placeholder to use when an indented block is required, but no actions need to happen yet\n",
    "        Q_J1.append(J1.total_outflow)        #append inflow to node at current step\n",
    "        t.append(sim.current_time)          #append current timestep (after converting from seconds to hrs)\n",
    "        sim.step_advance(3600)              #specify what timestep to advance before executing the next python command (this can be different than the model timesteps)\n",
    "    #sim.report()                            #write to report file after simulation\n",
    "\n",
    "print('Run completed')"
   ]
  },
  {
   "cell_type": "code",
   "execution_count": 22,
   "metadata": {},
   "outputs": [
    {
     "name": "stdout",
     "output_type": "stream",
     "text": [
      "[0.0, 0.0, 0.0, 0.0, 0.0, 0.0, 0.0, 0.0, 0.0, 0.0]\n"
     ]
    },
    {
     "data": {
      "text/plain": [
       "[<matplotlib.lines.Line2D at 0xfa8890>]"
      ]
     },
     "execution_count": 22,
     "metadata": {},
     "output_type": "execute_result"
    },
    {
     "data": {
      "image/png": "[encoded data removed]",
      "text/plain": [
       "<Figure size 432x288 with 1 Axes>"
      ]
     },
     "metadata": {},
     "output_type": "display_data"
    }
   ],
   "source": [
    "#Plotting\n",
    "print(Q_J1[0:10])\n",
    "plt.plot(Q_J1)"
   ]
  },
  {
   "cell_type": "code",
   "execution_count": 23,
   "metadata": {},
   "outputs": [
    {
     "name": "stdout",
     "output_type": "stream",
     "text": [
      "<bound method Link.is_conduit of <pyswmm.links.Conduit object at 0x0623F9D0>>\n",
      "('J1', 'J2')\n",
      "C1 ('J1', 'J2')\n",
      "C2 ('J2', 'J4')\n",
      "C3 ('J3', 'J4')\n",
      "C4 ('J4', 'Out1')\n"
     ]
    }
   ],
   "source": [
    "#Interacting with links (aka conduits):\n",
    "\n",
    "with ps.Simulation('tutorial1.inp') as sim:        #open the model file using a with statement so that it automatically closes itself when done\n",
    "    links = ps.Links(sim)                          #create link object for all links\n",
    "    C1 = links[\"C1\"]                               #create link object for specific link\n",
    "    print(C1.is_conduit)                           #check if link is a conduit (instead of an orifice, outlet, pump, weir)\n",
    "    print(C1.connections)                          #print connected nodes\n",
    "        \n",
    "    for link in links:                             #for each link\n",
    "        print(link.linkid,link.connections)        #print link id and connected nodes\n",
    "    \n",
    "    for step in sim:                               #for each step\n",
    "        pass                                      #placeholder to use when an indented block is required, but no actions need to happen yet\n",
    "        #print(sim.current_time)                    #print time at current step\n",
    "        sim.step_advance(3600)                     #specify what timestep to advance before executing the next python command (this can be different than the model timesteps)\n",
    "    #sim.report()                                   #write to report file after simulation"
   ]
  },
  {
   "cell_type": "code",
   "execution_count": 38,
   "metadata": {},
   "outputs": [
    {
     "data": {
      "text/plain": [
       "[<matplotlib.lines.Line2D at 0x18bf0d0>]"
      ]
     },
     "execution_count": 38,
     "metadata": {},
     "output_type": "execute_result"
    },
    {
     "data": {
      "image/png": "[encoded data removed]",
      "text/plain": [
       "<Figure size 432x288 with 1 Axes>"
      ]
     },
     "metadata": {},
     "output_type": "display_data"
    }
   ],
   "source": [
    "#Extracting info from the binary output file\n",
    "\n",
    "#tb.about()       #display version number and system info\n",
    "tb.catalog('tutorial1.out',itemtype='system')          #list the catalog of objects in the output file\n",
    "cat = tb.catalog('tutorial1.out',itemtype='node')      #return the catalog as an object\n",
    "tb.listvariables('tutorial1.out')                      #list all the variables that can be returned\n",
    "Q_out1 = tb.extract('tutorial1.out','node,Out1,Total_inflow')     #extract inflow rate to specific node\n",
    "plt.plot(Q_out1)"
   ]
  },
  {
   "cell_type": "code",
   "execution_count": null,
   "metadata": {},
   "outputs": [],
   "source": []
  }
 ],
 "metadata": {
  "kernelspec": {
   "display_name": "Python 3",
   "language": "python",
   "name": "python3"
  },
  "language_info": {
   "codemirror_mode": {
    "name": "ipython",
    "version": 3
   },
   "file_extension": ".py",
   "mimetype": "text/x-python",
   "name": "python",
   "nbconvert_exporter": "python",
   "pygments_lexer": "ipython3",
   "version": "3.6.5"
  }
 },
 "nbformat": 4,
 "nbformat_minor": 2
}
