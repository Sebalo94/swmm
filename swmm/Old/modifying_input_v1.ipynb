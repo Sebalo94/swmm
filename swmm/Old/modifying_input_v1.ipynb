{
 "cells": [
  {
   "cell_type": "markdown",
   "metadata": {},
   "source": [
    "**SWMM: modifying the input file**\n",
    "<br>Uses input files from tutorial included in SWMM5 download.\n",
    "<br>https://pyswmm.readthedocs.io/en/stable/tutorial/index.html\n",
    "\n",
    "*Packages needed:*\n",
    "<br>swmmtoolbox\n",
    "<br>pyswmm\n",
    "\n",
    "*Local modules needed:*\n",
    "<br>genplot\n",
    "<br>SWMMinput\n",
    "\n",
    "*Files needed:*\n",
    "<br> swmm5.dll\n",
    "<br> vcomp120.dll\n",
    "<br> tutorial1.inp\n",
    "<br> precip.dat"
   ]
  },
  {
   "cell_type": "markdown",
   "metadata": {},
   "source": [
    "**Notes:**\n",
    "<br> - use pandas dataframes instead of lists & dics, and to_string instead str.format()\n",
    "<br> - does order of nodes in coordinate section matter?\n",
    "<br> - to add: iterate to create many new input files w/ dif geom from single initial input file\n",
    "<br> - to add: update conduits when new nodes are added\n",
    "<br> - to add: tools to change the subcatchments?"
   ]
  },
  {
   "cell_type": "code",
   "execution_count": 1,
   "metadata": {},
   "outputs": [],
   "source": [
    "# Import packages & modules:\n",
    "import pyswmm as ps\n",
    "from swmmtoolbox import swmmtoolbox as tb\n",
    "from matplotlib import pyplot as plt\n",
    "import os\n",
    "import sys\n",
    "from genplot import prettyplot\n",
    "import SWMMinput as si"
   ]
  },
  {
   "cell_type": "code",
   "execution_count": 2,
   "metadata": {},
   "outputs": [],
   "source": [
    "# Set up directories & filenames:\n",
    "modelname = 'tutorial1_test'                                 #model name\n",
    "path = r'C:\\Users\\Chloe\\Documents\\PYTHON\\GOTTESACKER\\SWMM'   #path to model files\n",
    "\n",
    "inputfile = modelname + '.inp'                               #name of input file"
   ]
  },
  {
   "cell_type": "code",
   "execution_count": 3,
   "metadata": {},
   "outputs": [
    {
     "name": "stdout",
     "output_type": "stream",
     "text": [
      "Original junctions: ['J1', 'J2', 'J3', 'J4']\n",
      "New junctions: ['J1', 'J2', 'J3', 'J4', 'J5', 'J6']\n",
      "J1 elev.: J1 96.0\n",
      "New J1 elev.: J1 97.0\n",
      "Coordinates: ['J1', 'J2', 'J3', 'J4', 'Out1']\n",
      "New coordinates: ['J1', 'J2', 'J3', 'J4', 'Out1', 'J5', 'J6']\n",
      "Conduits: ['C1', 'C2', 'C3', 'C4']\n"
     ]
    }
   ],
   "source": [
    "# Modify input file:\n",
    "\n",
    "# Read in input file:\n",
    "inputfile_lines = si.read_infile(inputfile)\n",
    "\n",
    "# Import junction information from input file & create junction objects:\n",
    "section = 'JUNCTIONS'                 #assign string that indicates the beginning of the desired section\n",
    "[jdic,jkeys] = si.read_section(inputfile_lines, section)  #read desired section of SWMM input file\n",
    "J = si.batch_create(jkeys,jdic,si.Junction)     #create junction objects from dictionary info\n",
    "print('Original junctions:',[J[i].Name for i in range(len(J))])\n",
    "    \n",
    "# Create new junctions and update input file:\n",
    "newkeys = ['J5','J6']                                   #create list of new junction key strings\n",
    "newdic = {'J5':[87.,4.,0.,0.,0.],'J6':[86.,4.,0.,0.,0.]}#create dictionary for new junction\n",
    "\n",
    "J = si.add_objects(J,si.Junction,newkeys,newdic)        #create new junction objects\n",
    "print('New junctions:', [J[i].Name for i in range(len(J))])\n",
    "#si.update_infile_junctions('new_input.inp',inputfile_lines,J)   #update input file\n",
    "si.update_infile('new_input.inp','JUNCTIONS',inputfile_lines,J)\n",
    "\n",
    "# Change parameter values for existing junctions and update input file:\n",
    "print('J1 elev.:',J[0].Name,J[0].Elevation)            #print current elevation\n",
    "J[0].setElev(97.0)                                     #set new elevation\n",
    "print('New J1 elev.:',J[0].Name,J[0].Elevation)        #print new elevation\n",
    "#si.update_infile_junctions('new_input.inp',inputfile_lines,J)   #update input file\n",
    "si.update_infile('new_input.inp','JUNCTIONS',inputfile_lines,J)\n",
    "\n",
    "# Import coordinate information & create objects:\n",
    "section = 'COORDINATES'                 #assign string that indicates the beginning of the desired section\n",
    "[xydic,xykeys] = si.read_section(inputfile_lines, section)  #read desired section of SWMM input file\n",
    "XY = si.batch_create(xykeys,xydic,si.Coordinate)     #create coordinate objects from dictionary info\n",
    "print('Coordinates:',[XY[i].Name for i in range(len(XY))])\n",
    "\n",
    "# Add node coordinates & update input file:\n",
    "newdic = {'J5':[3500.0,3381.5],'J6':[1500.0,3400.0]}    #create dictionary for new coordinates\n",
    "XY = si.add_objects(XY,si.Coordinate,newkeys,newdic)      #create new coordinate objects\n",
    "print('New coordinates:',[XY[i].Name for i in range(len(XY))])\n",
    "si.update_infile('new_input.inp','COORDINATES',inputfile_lines,XY) #update input file\n",
    "\n",
    "# Import conduit information & create objects:\n",
    "section = 'CONDUITS'            #assign string that indicates the beginning of the desired section\n",
    "[cdic,ckeys] = si.read_section(inputfile_lines, section)  #read desired section of SWMM input file\n",
    "C = si.batch_create(ckeys,cdic,si.Conduit)     #create coordinate objects from dictionary info\n",
    "print('Conduits:',[C[i].Name for i in range(len(C))])"
   ]
  },
  {
   "cell_type": "code",
   "execution_count": 4,
   "metadata": {},
   "outputs": [
    {
     "data": {
      "image/png": "[encoded data removed]",
      "text/plain": [
       "<Figure size 432x288 with 1 Axes>"
      ]
     },
     "metadata": {},
     "output_type": "display_data"
    }
   ],
   "source": [
    "# Plot diagram of conduits:\n",
    "si.plot_conduits(XY,C,xydic,True)\n"
   ]
  },
  {
   "cell_type": "code",
   "execution_count": 5,
   "metadata": {},
   "outputs": [
    {
     "ename": "SystemExit",
     "evalue": "",
     "output_type": "error",
     "traceback": [
      "An exception has occurred, use %tb to see the full traceback.\n",
      "\u001b[1;31mSystemExit\u001b[0m\n"
     ]
    },
    {
     "name": "stderr",
     "output_type": "stream",
     "text": [
      "C:\\Users\\Chloe\\Anaconda3_32bit\\lib\\site-packages\\IPython\\core\\interactiveshell.py:2971: UserWarning: To exit: use 'exit', 'quit', or Ctrl-D.\n",
      "  warn(\"To exit: use 'exit', 'quit', or Ctrl-D.\", stacklevel=1)\n"
     ]
    }
   ],
   "source": [
    "sys.exit()"
   ]
  },
  {
   "cell_type": "code",
   "execution_count": null,
   "metadata": {},
   "outputs": [],
   "source": [
    "# Run SWMM & collect outflow data:\n",
    "Qout = []                                   #create empty list to store outputs\n",
    "t = []                                      #create empty list to store timesteps\n",
    "with ps.Simulation(inputfile) as sim:       #open the model input file (with statement automatically closes itself when done)\n",
    "    nodes = ps.Nodes(sim)                   #create node object with all nodes\n",
    "    J4 = nodes['J4']                        #create node object for a specific node\n",
    "    for step in sim:                        #loop over timesteps\n",
    "        pass                                #placeholder to use when an indented block is required, but no actions need to happen yet\n",
    "        Qout.append(J4.total_outflow)     #append outflow at node at current step\n",
    "        t.append(sim.current_time)          #append current timestep\n",
    "print('Model run complete.')                #print when model is done running"
   ]
  },
  {
   "cell_type": "code",
   "execution_count": null,
   "metadata": {},
   "outputs": [],
   "source": [
    "# Plots:\n",
    "prettyplot(t,Qout,'Node outflow','time','Q (cfs)')   #plot using prettyplot function"
   ]
  },
  {
   "cell_type": "code",
   "execution_count": null,
   "metadata": {},
   "outputs": [],
   "source": []
  }
 ],
 "metadata": {
  "kernelspec": {
   "display_name": "Python 3",
   "language": "python",
   "name": "python3"
  },
  "language_info": {
   "codemirror_mode": {
    "name": "ipython",
    "version": 3
   },
   "file_extension": ".py",
   "mimetype": "text/x-python",
   "name": "python",
   "nbconvert_exporter": "python",
   "pygments_lexer": "ipython3",
   "version": "3.6.5"
  }
 },
 "nbformat": 4,
 "nbformat_minor": 2
}
