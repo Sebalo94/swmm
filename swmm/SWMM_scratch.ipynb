{
 "cells": [
  {
   "cell_type": "code",
   "execution_count": 1,
   "metadata": {},
   "outputs": [],
   "source": [
    "#SWMM scratch\n",
    "\n",
    "import pyswmm as ps\n",
    "from genplot import prettyplot"
   ]
  },
  {
   "cell_type": "code",
   "execution_count": 2,
   "metadata": {},
   "outputs": [
    {
     "name": "stdout",
     "output_type": "stream",
     "text": [
      "Model run complete.\n"
     ]
    }
   ],
   "source": [
    "inputfile = 'tutorial1_scratch.inp'\n",
    "\n",
    "# Run SWMM & collect outflow data:\n",
    "Qout = []                                   #create empty list to store outputs\n",
    "t = []                                      #create empty list to store timesteps\n",
    "with ps.Simulation(inputfile) as sim:       #open the model input file (with statement automatically closes itself when done)\n",
    "    nodes = ps.Nodes(sim)                   #create node object with all nodes\n",
    "    J4 = nodes['J4']                        #create node object for a specific node\n",
    "    for step in sim:                        #loop over timesteps\n",
    "        pass                                #placeholder to use when an indented block is required, but no actions need to happen yet\n",
    "        Qout.append(J4.total_outflow)     #append outflow at node at current step\n",
    "        t.append(sim.current_time)          #append current timestep\n",
    "print('Model run complete.')                #print when model is done running\n",
    "prettyplot(t,Qout,'Node outflow','time','Q (cfs)')   #plot using prettyplot function"
   ]
  },
  {
   "cell_type": "code",
   "execution_count": 4,
   "metadata": {},
   "outputs": [
    {
     "name": "stdout",
     "output_type": "stream",
     "text": [
      "\n",
      " API Key Error: Network Not Initialized (Input file open?)\n"
     ]
    },
    {
     "name": "stderr",
     "output_type": "stream",
     "text": [
      "C:\\Users\\Chloe\\Anaconda3_32bit\\lib\\site-packages\\pyswmm\\swmm5.py:167: UserWarning: \n",
      " API Key Error: Network Not Initialized (Input file open?)\n",
      "  warnings.warn(self._error_message(errcode))\n"
     ]
    },
    {
     "ename": "PYSWMMException",
     "evalue": "Node ID Does not Exist",
     "output_type": "error",
     "traceback": [
      "\u001b[1;31m---------------------------------------------------------------------------\u001b[0m",
      "\u001b[1;31mPYSWMMException\u001b[0m                           Traceback (most recent call last)",
      "\u001b[1;32m<ipython-input-4-fce5258846e7>\u001b[0m in \u001b[0;36m<module>\u001b[1;34m()\u001b[0m\n\u001b[0;32m     12\u001b[0m         \u001b[0mt\u001b[0m\u001b[1;33m.\u001b[0m\u001b[0mappend\u001b[0m\u001b[1;33m(\u001b[0m\u001b[0msim\u001b[0m\u001b[1;33m.\u001b[0m\u001b[0mcurrent_time\u001b[0m\u001b[1;33m)\u001b[0m          \u001b[1;31m#append current timestep\u001b[0m\u001b[1;33m\u001b[0m\u001b[0m\n\u001b[0;32m     13\u001b[0m \u001b[1;33m\u001b[0m\u001b[0m\n\u001b[1;32m---> 14\u001b[1;33m \u001b[1;32mfor\u001b[0m \u001b[0mnode\u001b[0m \u001b[1;32min\u001b[0m \u001b[0mnodes\u001b[0m\u001b[1;33m:\u001b[0m                          \u001b[1;31m#loop over nodes\u001b[0m\u001b[1;33m\u001b[0m\u001b[0m\n\u001b[0m\u001b[0;32m     15\u001b[0m     \u001b[0mprint\u001b[0m\u001b[1;33m(\u001b[0m\u001b[0mnode\u001b[0m\u001b[1;33m.\u001b[0m\u001b[0mnodeid\u001b[0m\u001b[1;33m)\u001b[0m                      \u001b[1;31m#print node ids\u001b[0m\u001b[1;33m\u001b[0m\u001b[0m\n\u001b[0;32m     16\u001b[0m \u001b[0mprint\u001b[0m\u001b[1;33m(\u001b[0m\u001b[1;34m'Model run complete.'\u001b[0m\u001b[1;33m)\u001b[0m                \u001b[1;31m#print when model is done running\u001b[0m\u001b[1;33m\u001b[0m\u001b[0m\n",
      "\u001b[1;32m~\\Anaconda3_32bit\\lib\\site-packages\\pyswmm\\nodes.py\u001b[0m in \u001b[0;36m__next__\u001b[1;34m(self)\u001b[0m\n\u001b[0;32m    109\u001b[0m     \u001b[1;32mdef\u001b[0m \u001b[0m__next__\u001b[0m\u001b[1;33m(\u001b[0m\u001b[0mself\u001b[0m\u001b[1;33m)\u001b[0m\u001b[1;33m:\u001b[0m\u001b[1;33m\u001b[0m\u001b[0m\n\u001b[0;32m    110\u001b[0m         \u001b[1;32mif\u001b[0m \u001b[0mself\u001b[0m\u001b[1;33m.\u001b[0m\u001b[0m_cuindex\u001b[0m \u001b[1;33m<\u001b[0m \u001b[0mself\u001b[0m\u001b[1;33m.\u001b[0m\u001b[0m_nNodes\u001b[0m\u001b[1;33m:\u001b[0m\u001b[1;33m\u001b[0m\u001b[0m\n\u001b[1;32m--> 111\u001b[1;33m             \u001b[0mnodeobject\u001b[0m \u001b[1;33m=\u001b[0m \u001b[0mself\u001b[0m\u001b[1;33m.\u001b[0m\u001b[0m__getitem__\u001b[0m\u001b[1;33m(\u001b[0m\u001b[0mself\u001b[0m\u001b[1;33m.\u001b[0m\u001b[0m_nodeid\u001b[0m\u001b[1;33m)\u001b[0m\u001b[1;33m\u001b[0m\u001b[0m\n\u001b[0m\u001b[0;32m    112\u001b[0m             \u001b[0mself\u001b[0m\u001b[1;33m.\u001b[0m\u001b[0m_cuindex\u001b[0m \u001b[1;33m+=\u001b[0m \u001b[1;36m1\u001b[0m  \u001b[1;31m# Next Iteration\u001b[0m\u001b[1;33m\u001b[0m\u001b[0m\n\u001b[0;32m    113\u001b[0m             \u001b[1;32mreturn\u001b[0m \u001b[0mnodeobject\u001b[0m\u001b[1;33m\u001b[0m\u001b[0m\n",
      "\u001b[1;32m~\\Anaconda3_32bit\\lib\\site-packages\\pyswmm\\nodes.py\u001b[0m in \u001b[0;36m__getitem__\u001b[1;34m(self, nodeid)\u001b[0m\n\u001b[0;32m    102\u001b[0m \u001b[1;33m\u001b[0m\u001b[0m\n\u001b[0;32m    103\u001b[0m         \u001b[1;32melse\u001b[0m\u001b[1;33m:\u001b[0m\u001b[1;33m\u001b[0m\u001b[0m\n\u001b[1;32m--> 104\u001b[1;33m             \u001b[1;32mraise\u001b[0m \u001b[0mPYSWMMException\u001b[0m\u001b[1;33m(\u001b[0m\u001b[1;34m\"Node ID Does not Exist\"\u001b[0m\u001b[1;33m)\u001b[0m\u001b[1;33m\u001b[0m\u001b[0m\n\u001b[0m\u001b[0;32m    105\u001b[0m \u001b[1;33m\u001b[0m\u001b[0m\n\u001b[0;32m    106\u001b[0m     \u001b[1;32mdef\u001b[0m \u001b[0m__iter__\u001b[0m\u001b[1;33m(\u001b[0m\u001b[0mself\u001b[0m\u001b[1;33m)\u001b[0m\u001b[1;33m:\u001b[0m\u001b[1;33m\u001b[0m\u001b[0m\n",
      "\u001b[1;31mPYSWMMException\u001b[0m: Node ID Does not Exist"
     ]
    }
   ],
   "source": [
    "inputfile = 'new_input.inp'\n",
    "\n",
    "# Run SWMM & collect outflow data:\n",
    "Qout = []                                   #create empty list to store outputs\n",
    "t = []                                      #create empty list to store timesteps\n",
    "with ps.Simulation(inputfile) as sim:       #open the model input file (with statement automatically closes itself when done)\n",
    "    nodes = ps.Nodes(sim)                   #create node object with all nodes\n",
    "    #Obs = nodes['1044']                        #create node object for a specific node\n",
    "    for step in sim:                        #loop over timesteps\n",
    "        pass                                #placeholder to use when an indented block is required, but no actions need to happen yet\n",
    "        #Qout.append(Obs.total_outflow)     #append outflow at node at current step\n",
    "        t.append(sim.current_time)          #append current timestep\n",
    "\n",
    "for node in nodes:                          #loop over nodes\n",
    "    print(node.nodeid)                      #print node ids\n",
    "print('Model run complete.')                #print when model is done running\n",
    "#prettyplot(t,Qout,'Node outflow','time','Q (cfs)')   #plot using prettyplot function"
   ]
  },
  {
   "cell_type": "code",
   "execution_count": null,
   "metadata": {},
   "outputs": [],
   "source": []
  },
  {
   "cell_type": "code",
   "execution_count": null,
   "metadata": {},
   "outputs": [],
   "source": []
  }
 ],
 "metadata": {
  "kernelspec": {
   "display_name": "Python 3",
   "language": "python",
   "name": "python3"
  },
  "language_info": {
   "codemirror_mode": {
    "name": "ipython",
    "version": 3
   },
   "file_extension": ".py",
   "mimetype": "text/x-python",
   "name": "python",
   "nbconvert_exporter": "python",
   "pygments_lexer": "ipython3",
   "version": "3.6.5"
  }
 },
 "nbformat": 4,
 "nbformat_minor": 2
}
