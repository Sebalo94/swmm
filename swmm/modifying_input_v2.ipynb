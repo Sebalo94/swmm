{
 "cells": [
  {
   "cell_type": "markdown",
   "metadata": {},
   "source": [
    "**SWMM: modifying the input file**\n",
    "<br>Uses a template input file from Gottesacker.\n",
    "\n",
    "*Packages needed:*\n",
    "<br>pandas\n",
    "<br>swmmtoolbox\n",
    "<br>pyswmm\n",
    "\n",
    "*Local modules needed:*\n",
    "<br>genplot\n",
    "<br>SWMMinput\n",
    "\n",
    "*Files needed:*\n",
    "<br> swmm5.dll\n",
    "<br> vcomp120.dll\n",
    "<br> template.inp\n",
    "<br> swmm_output-0.1.0a0-cp36-cp36m-win32.whl\n"
   ]
  },
  {
   "cell_type": "markdown",
   "metadata": {},
   "source": [
    "**Notes:**\n",
    "<br> - does order of nodes in coordinate section matter?\n",
    "<br> - to add: iterate to create many new input files w/ dif geom from single initial input file\n",
    "<br> - to add: update conduits when new nodes are added\n",
    "<br> - to add: tools to change the subcatchments?"
   ]
  },
  {
   "cell_type": "code",
   "execution_count": 1,
   "metadata": {},
   "outputs": [],
   "source": [
    "# Import packages & modules:\n",
    "import pyswmm as ps\n",
    "from swmmtoolbox import swmmtoolbox as tb\n",
    "import pandas as pd\n",
    "import numpy as np\n",
    "from matplotlib import pyplot as plt\n",
    "import os\n",
    "import sys\n",
    "from genplot import prettyplot\n",
    "import SWMMinput as si"
   ]
  },
  {
   "cell_type": "code",
   "execution_count": 2,
   "metadata": {},
   "outputs": [],
   "source": [
    "# Set up directories & filenames:\n",
    "modelname = 'GK_test'                                        #model name\n",
    "path = r'C:\\Users\\Chloe\\Documents\\PYTHON\\GOTTESACKER\\SWMM'   #path to model files\n",
    "\n",
    "inputfile = 'template.inp'                                   #name of template input file"
   ]
  },
  {
   "cell_type": "code",
   "execution_count": 3,
   "metadata": {},
   "outputs": [
    {
     "name": "stdout",
     "output_type": "stream",
     "text": [
      "      Name  Elevation  MaxDepth  InitDepth  SurDepth  Aponded\n",
      "188.0   J5       87.0       4.0        0.0       0.0      0.0\n",
      "188.5   J6       86.0       4.0        0.0       0.0      0.0 \n",
      "        Name  Elevation  Type Gated\n",
      "194.0  Out1         85  FREE    NO\n"
     ]
    }
   ],
   "source": [
    "#Fill in template file:\n",
    "input_lines = si.read_input(inputfile)           #read template input file\n",
    "sections = ['junctions','outfalls']                 #set sections to edit\n",
    "data = {'junctions': [['J5',87.,4.,0.,0.,0.], ['J6',86.,4.,0.,0.,0.]],\n",
    "        'outfalls':  [['Out1', 85, 'FREE', 'NO']]}      #dic of data for items to add\n",
    "Section_Data = si.edit_section(input_lines,sections,data)  #edit sections\n",
    "\n",
    "Junctions = Section_Data['junctions']     #get section dataframe\n",
    "Outfalls = Section_Data['outfalls']       #get section dataframe\n",
    "\n",
    "print(Junctions, '\\n',Outfalls)"
   ]
  },
  {
   "cell_type": "code",
   "execution_count": 5,
   "metadata": {},
   "outputs": [
    {
     "ename": "SystemExit",
     "evalue": "",
     "output_type": "error",
     "traceback": [
      "An exception has occurred, use %tb to see the full traceback.\n",
      "\u001b[1;31mSystemExit\u001b[0m\n"
     ]
    },
    {
     "name": "stderr",
     "output_type": "stream",
     "text": [
      "C:\\Users\\Chloe\\Anaconda3_32bit\\lib\\site-packages\\IPython\\core\\interactiveshell.py:2971: UserWarning: To exit: use 'exit', 'quit', or Ctrl-D.\n",
      "  warn(\"To exit: use 'exit', 'quit', or Ctrl-D.\", stacklevel=1)\n"
     ]
    }
   ],
   "source": [
    "#Read in data from existing input file:\n",
    "inputfile = 'zhao_scratch.inp'              #set name of input file\n",
    "input_lines = si.read_input(inputfile)      #read input file\n",
    "sections = ['junctions','outfalls']         #set sections to import\n",
    "Section_Data = si.read_sections(input_lines,sections)    #import section data\n",
    "Junctions = Section_Data['junctions']      #get data for specific section\n",
    "Outfalls = Section_Data['outfalls']\n",
    "\n",
    "#print(Junctions)\n",
    "#print(Outfalls)\n",
    "\n",
    "si.write_new_input(input_lines, sections, Section_Data, 'new_input.inp')\n",
    "\n",
    "sys.exit()"
   ]
  },
  {
   "cell_type": "code",
   "execution_count": null,
   "metadata": {},
   "outputs": [],
   "source": [
    "# Plot diagram of conduits:\n",
    "si.plot_conduits(XY,C,xydic,True)\n"
   ]
  },
  {
   "cell_type": "code",
   "execution_count": null,
   "metadata": {},
   "outputs": [],
   "source": [
    "sys.exit()"
   ]
  },
  {
   "cell_type": "code",
   "execution_count": null,
   "metadata": {},
   "outputs": [],
   "source": [
    "# Run SWMM & collect outflow data:\n",
    "Qout = []                                   #create empty list to store outputs\n",
    "t = []                                      #create empty list to store timesteps\n",
    "with ps.Simulation(inputfile) as sim:       #open the model input file (with statement automatically closes itself when done)\n",
    "    nodes = ps.Nodes(sim)                   #create node object with all nodes\n",
    "    J4 = nodes['J4']                        #create node object for a specific node\n",
    "    for step in sim:                        #loop over timesteps\n",
    "        pass                                #placeholder to use when an indented block is required, but no actions need to happen yet\n",
    "        Qout.append(J4.total_outflow)     #append outflow at node at current step\n",
    "        t.append(sim.current_time)          #append current timestep\n",
    "print('Model run complete.')                #print when model is done running"
   ]
  },
  {
   "cell_type": "code",
   "execution_count": null,
   "metadata": {},
   "outputs": [],
   "source": [
    "# Plots:\n",
    "prettyplot(t,Qout,'Node outflow','time','Q (cfs)')   #plot using prettyplot function"
   ]
  },
  {
   "cell_type": "code",
   "execution_count": null,
   "metadata": {},
   "outputs": [],
   "source": []
  }
 ],
 "metadata": {
  "kernelspec": {
   "display_name": "Python 3",
   "language": "python",
   "name": "python3"
  },
  "language_info": {
   "codemirror_mode": {
    "name": "ipython",
    "version": 3
   },
   "file_extension": ".py",
   "mimetype": "text/x-python",
   "name": "python",
   "nbconvert_exporter": "python",
   "pygments_lexer": "ipython3",
   "version": "3.6.5"
  }
 },
 "nbformat": 4,
 "nbformat_minor": 2
}
