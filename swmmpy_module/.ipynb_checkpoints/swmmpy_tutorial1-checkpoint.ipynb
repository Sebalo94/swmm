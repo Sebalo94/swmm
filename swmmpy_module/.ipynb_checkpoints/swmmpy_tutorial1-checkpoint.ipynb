{
 "cells": [
  {
   "cell_type": "markdown",
   "metadata": {},
   "source": [
    "## Python tools for writing SWMM input files\n",
    "Test case for Gottesacker model by Zhao Chen.\n",
    "***\n",
    "**Functions:**\n",
    "<br>- Writes SWMM project.inp files using a template (template.inp) - searches for placeholder strings in the template and replaces them with data from a pandas dataframe. Dataframes can be created manually, or loaded from .csv files.\n",
    "<br>- Run SWMM using the specified project.inp file\n",
    "<br>\n",
    "<br>\n",
    "**Goals:**\n",
    "<br>- Import results from project.rpt file as pandas dataframes\n",
    "***\n",
    "**Files needed:**\n",
    "<br>- template.inp\n",
    "<br>- swmm5.exe\n",
    "<br>- swmm5.dll\n",
    "<br>\n",
    "<br>\n",
    "**Packages needed:**\n",
    "<br>- pandas\n",
    "<br>- numpy\n",
    "<br>- subprocess\n",
    "<br>- swmmtoolbox"
   ]
  },
  {
   "cell_type": "code",
   "execution_count": 10,
   "metadata": {},
   "outputs": [],
   "source": [
    "import pandas as pd\n",
    "import numpy as np\n",
    "import subprocess\n",
    "import swmmpy as sp"
   ]
  },
  {
   "cell_type": "code",
   "execution_count": 11,
   "metadata": {},
   "outputs": [],
   "source": [
    "#File structure and naming:\n",
    "\n",
    "exe =               'swmm5.exe'                                             #filename for swmm executable\n",
    "template_filename = 'template.inp'                                          #filename for template .inp file to import\n",
    "projectname =       'project'                                               #name to use when writing new .inp file, and .pt and .out files\n",
    "\n",
    "inputfile =          projectname+'.inp'                                     #filename to write new .inp file to\n",
    "reportfile =         projectname+'.rpt'                                     #filename to write .rpt file to\n",
    "outputfile =         projectname+'.out'                                     #filename to write .out file to\n",
    "\n",
    "data_filenames =    ['junctions.csv', 'conduits.csv']                       #csv filenames with data to insert into the .inp file\n",
    "placeholders =      ['junctions', 'conduits']                               #placeholder strings to search for and replace with data\n"
   ]
  },
  {
   "cell_type": "code",
   "execution_count": 12,
   "metadata": {},
   "outputs": [],
   "source": [
    "#Write a SWMM input file using a template and data csv files:\n",
    "sp.write_input(inputfile, placeholders, data_filenames)"
   ]
  },
  {
   "cell_type": "code",
   "execution_count": 13,
   "metadata": {},
   "outputs": [
    {
     "name": "stdout",
     "output_type": "stream",
     "text": [
      "\n",
      "\n",
      "... EPA-SWMM 5.0 (Build 5.0.022)\n",
      "\n",
      "\n",
      "\n",
      " o  Retrieving project data\n",
      "\n",
      "\n",
      "\n",
      "... EPA-SWMM completed in 50.00 seconds.\n",
      "\n"
     ]
    }
   ],
   "source": [
    "#Run SWMM with new .inp and generate .rpt and .out files   \n",
    "sp.run(inputfile, reportfile, outputfile)"
   ]
  },
  {
   "cell_type": "code",
   "execution_count": 222,
   "metadata": {},
   "outputs": [
    {
     "ename": "AttributeError",
     "evalue": "module 'swmmtoolbox' has no attribute 'swmmtoolbox'",
     "output_type": "error",
     "traceback": [
      "\u001b[1;31m---------------------------------------------------------------------------\u001b[0m",
      "\u001b[1;31mAttributeError\u001b[0m                            Traceback (most recent call last)",
      "\u001b[1;32m<ipython-input-222-a4365a1c5776>\u001b[0m in \u001b[0;36m<module>\u001b[1;34m()\u001b[0m\n\u001b[0;32m      2\u001b[0m \u001b[0mreport\u001b[0m \u001b[1;33m=\u001b[0m \u001b[0mpd\u001b[0m\u001b[1;33m.\u001b[0m\u001b[0mread_table\u001b[0m\u001b[1;33m(\u001b[0m\u001b[1;34m'project.rpt'\u001b[0m\u001b[1;33m,\u001b[0m \u001b[0mheader\u001b[0m\u001b[1;33m=\u001b[0m\u001b[1;32mNone\u001b[0m\u001b[1;33m)\u001b[0m  \u001b[1;31m#read report file into dataframe\u001b[0m\u001b[1;33m\u001b[0m\u001b[0m\n\u001b[0;32m      3\u001b[0m \u001b[1;33m\u001b[0m\u001b[0m\n\u001b[1;32m----> 4\u001b[1;33m \u001b[0mswmmtoolbox\u001b[0m\u001b[1;33m.\u001b[0m\u001b[0mswmmtoolbox\u001b[0m\u001b[1;33m.\u001b[0m\u001b[0mabout\u001b[0m\u001b[1;33m(\u001b[0m\u001b[1;33m)\u001b[0m\u001b[1;33m\u001b[0m\u001b[0m\n\u001b[0m\u001b[0;32m      5\u001b[0m \u001b[1;33m\u001b[0m\u001b[0m\n",
      "\u001b[1;31mAttributeError\u001b[0m: module 'swmmtoolbox' has no attribute 'swmmtoolbox'"
     ]
    }
   ],
   "source": [
    "#Read outputs:\n",
    "report = pd.read_table('project.rpt', header=None)  #read report file into dataframe\n",
    "print(report)"
   ]
  }
 ],
 "metadata": {
  "kernelspec": {
   "display_name": "Python 3",
   "language": "python",
   "name": "python3"
  },
  "language_info": {
   "codemirror_mode": {
    "name": "ipython",
    "version": 3
   },
   "file_extension": ".py",
   "mimetype": "text/x-python",
   "name": "python",
   "nbconvert_exporter": "python",
   "pygments_lexer": "ipython3",
   "version": "3.6.2"
  }
 },
 "nbformat": 4,
 "nbformat_minor": 2
}
