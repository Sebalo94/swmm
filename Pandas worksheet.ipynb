{
 "cells": [
  {
   "cell_type": "markdown",
   "metadata": {},
   "source": [
    "## Pandas indexing, inserting, etc. worksheet\n"
   ]
  },
  {
   "cell_type": "code",
   "execution_count": 1,
   "metadata": {},
   "outputs": [],
   "source": [
    "import pandas as pd\n",
    "import numpy as np"
   ]
  },
  {
   "cell_type": "markdown",
   "metadata": {},
   "source": [
    "Dataframes to work with:"
   ]
  },
  {
   "cell_type": "code",
   "execution_count": 2,
   "metadata": {},
   "outputs": [
    {
     "name": "stdout",
     "output_type": "stream",
     "text": [
      "df:\n",
      "              0\n",
      "0            A\n",
      "1            B\n",
      "2  placeholder\n",
      "3            C\n",
      "4            D\n",
      "\n",
      "df2:\n",
      "    0\n",
      "0  E\n",
      "1  F\n"
     ]
    }
   ],
   "source": [
    "#Create dataframes:\n",
    "df = pd.DataFrame(['A','B','placeholder','C','D'],index=[0,1,2,3,4])   #indices are for rows\n",
    "print('df:\\n', df)\n",
    "\n",
    "df2 = pd.DataFrame(['E','F'],index=[0,1])                  \n",
    "print('\\ndf2:\\n', df2)\n"
   ]
  },
  {
   "cell_type": "code",
   "execution_count": 3,
   "metadata": {},
   "outputs": [
    {
     "name": "stdout",
     "output_type": "stream",
     "text": [
      "0    placeholder\n",
      "Name: 2, dtype: object\n",
      "0    placeholder\n",
      "Name: 2, dtype: object\n"
     ]
    }
   ],
   "source": [
    "#Notes on indexing:\n",
    "print(df.loc[2])   #loc gets rows (or columns) with particular labels (returned by df.index[])\n",
    "print(df.iloc[2])  #iloc gets rows (or columns at particular positions in the index (only integers))"
   ]
  },
  {
   "cell_type": "markdown",
   "metadata": {},
   "source": [
    "### Inserting one dataframe into another"
   ]
  },
  {
   "cell_type": "markdown",
   "metadata": {},
   "source": [
    "**Approach 1:** re-indexing"
   ]
  },
  {
   "cell_type": "code",
   "execution_count": 5,
   "metadata": {},
   "outputs": [
    {
     "name": "stdout",
     "output_type": "stream",
     "text": [
      "df:\n",
      "              0\n",
      "0            A\n",
      "1            B\n",
      "2  placeholder\n",
      "3            C\n",
      "4            D\n",
      "placeholder index name: Int64Index([2], dtype='int64')\n",
      "and position: 2\n",
      "df2:\n",
      "    0\n",
      "0  E\n",
      "1  F\n",
      "df2 original indices: [0 1]\n",
      "df2 desired new indices: 0    2.0\n",
      "1    2.5\n",
      "Name: i, dtype: float64\n",
      "df2 with new index column:\n",
      "    0    i\n",
      "0  E  2.0\n",
      "1  F  2.5\n",
      "reindexed df2:\n",
      "      0\n",
      "i     \n",
      "2.0  E\n",
      "2.5  F\n",
      "original df with placeholder dropped:\n",
      "    0\n",
      "0  A\n",
      "1  B\n",
      "3  C\n",
      "4  D\n",
      "concatenated df:\n",
      "      0\n",
      "0.0  A\n",
      "1.0  B\n",
      "3.0  C\n",
      "4.0  D\n",
      "2.0  E\n",
      "2.5  F\n",
      "correctly sorted concatenated df:\n",
      "      0\n",
      "0.0  A\n",
      "1.0  B\n",
      "2.0  E\n",
      "2.5  F\n",
      "3.0  C\n",
      "4.0  D\n"
     ]
    }
   ],
   "source": [
    "#Dataframe 1:\n",
    "print('df:\\n', df)\n",
    "\n",
    "#Get the index of a specific value in a specific column:\n",
    "ind = df.index[df[0]=='placeholder']                        #df.index gets the index, df[0] looks in column 0\n",
    "print('placeholder index name:', ind)                       #the index is an index object, referring to the index lable, NOT a positional integer\n",
    "loc = df.index.get_loc(ind[0])                              #get the integer position of the index specified\n",
    "print('and position:', loc)                                 #the result is an integer\n",
    "\n",
    "#Format second dataframe (to be inserted into first):\n",
    "print('df2:\\n', df2)                                        #dataframe 2\n",
    "df2_oldind = df2.index.values                               #gets all the row index values for the df\n",
    "print('df2 original indices:', df2_oldind)\n",
    "df2_newind = pd.Series(np.arange(loc, loc+1, 1/len(df2)),name='i')   #create new indices that are in between the rows where the new dataframe will be inserted into df1\n",
    "print('df2 desired new indices:', df2_newind)\n",
    "df2 = pd.concat([df2,df2_newind],axis=1)                    #tack on new column with desired indices\n",
    "print('df2 with new index column:\\n', df2)\n",
    "df2.set_index('i', inplace=True)                            #replace existing indices with new indices in added column\n",
    "print('reindexed df2:\\n', df2)\n",
    "\n",
    "#Insert the second df into the placeholder location:\n",
    "df.drop(ind, inplace=True)                                  #remove the placeholder row\n",
    "print('original df with placeholder dropped:\\n', df)\n",
    "new = pd.concat([df,df2])                                   #tack second df onto end of first df\n",
    "print('concatenated df:\\n', new)\n",
    "new.sort_index(axis=0, inplace=True)                        #sort new df by row indices\n",
    "print('correctly sorted concatenated df:\\n', new)\n"
   ]
  },
  {
   "cell_type": "markdown",
   "metadata": {},
   "source": [
    "**Approach 2:** splitting into two and appending, then rejoining. This is MUCH more efficient!"
   ]
  },
  {
   "cell_type": "code",
   "execution_count": 6,
   "metadata": {},
   "outputs": [
    {
     "name": "stdout",
     "output_type": "stream",
     "text": [
      "df:\n",
      "              0\n",
      "0            A\n",
      "1            B\n",
      "2  placeholder\n",
      "3            C\n",
      "4            D\n",
      "\n",
      "df2:\n",
      "    0\n",
      "0  E\n",
      "1  F\n"
     ]
    }
   ],
   "source": [
    "#Create dataframes:\n",
    "df = pd.DataFrame(['A','B','placeholder','C','D'],index=[0,1,2,3,4])   #indices are for rows\n",
    "print('df:\\n', df)\n",
    "\n",
    "df2 = pd.DataFrame(['E','F'],index=[0,1])                  \n",
    "print('\\ndf2:\\n', df2)\n"
   ]
  },
  {
   "cell_type": "code",
   "execution_count": 7,
   "metadata": {},
   "outputs": [
    {
     "name": "stdout",
     "output_type": "stream",
     "text": [
      "Split original df:\n",
      "    0\n",
      "0  A\n",
      "1  B \n",
      "    0\n",
      "3  C\n",
      "4  D \n",
      "\n",
      "New combined df:\n",
      "    0\n",
      "0  A\n",
      "1  B\n",
      "2  E\n",
      "3  F\n",
      "4  C\n",
      "5  D\n"
     ]
    }
   ],
   "source": [
    "#Get row index and location of placeholder:\n",
    "ind = df.index[df[0]=='placeholder']                        #df.index gets the index, df[0] looks in column 0 (returns an index object not just the name)\n",
    "loc = df.index.get_loc(ind[0])                              #get the integer position of the index specified (need to select first item (index name) in index object)\n",
    "\n",
    "#Split original df into two, one for everything before the placeholder, one for everything after:\n",
    "dfA = df[df.index < loc]                                    #create df for everything above placeholder\n",
    "dfB = df[df.index > loc]                                    #create df for everything below placeholder\n",
    "print('Split original df:\\n', dfA, '\\n', dfB, '\\n')\n",
    "\n",
    "#Append the three dfs to each other (part above, part to insert, part below):\n",
    "new = dfA.append(df2, ignore_index=True)                    #append additional part to top part\n",
    "new = new.append(dfB, ignore_index=True)                    #append bottom part to new df\n",
    "print('New combined df:\\n', new)"
   ]
  },
  {
   "cell_type": "markdown",
   "metadata": {},
   "source": [
    "### Concatenating mixed data into a single formatted line"
   ]
  },
  {
   "cell_type": "code",
   "execution_count": 8,
   "metadata": {},
   "outputs": [
    {
     "name": "stdout",
     "output_type": "stream",
     "text": [
      "df:\n",
      "         A  B    C\n",
      "0  string  1  1.5\n",
      "1  string  1  1.5\n",
      "2  string  1  1.5 \n",
      "\n",
      "df2:\n",
      "                                         0\n",
      "0  ;;-------------- ---------- ----------\n"
     ]
    }
   ],
   "source": [
    "#Create df to be formatted:\n",
    "df = pd.DataFrame([['string',1,1.5], ['string',1,1.5], ['string',1,1.5]], \n",
    "                   index = [0,1,2], columns = ['A','B','C'])   \n",
    "print('df:\\n', df, '\\n')\n",
    "\n",
    "#Create df to take formatting from:\n",
    "df2 = pd.DataFrame([';;-------------- ---------- ----------'], index=[0], columns=[0])\n",
    "print('df2:\\n', df2)"
   ]
  },
  {
   "cell_type": "code",
   "execution_count": 11,
   "metadata": {},
   "outputs": [
    {
     "name": "stdout",
     "output_type": "stream",
     "text": [
      "string           1          1.5        \n"
     ]
    }
   ],
   "source": [
    "#Create format string based on template file:\n",
    "string = df2[0].loc[0]            #get string to model formatting on (the row of dashes in the template file)\n",
    "cols = string.split()             #split string into chunks separated by whitespace\n",
    "lengths = [len(item) for item in cols]                   #get length of each column\n",
    "form = ''                                                #create empty string to fill\n",
    "form = [form + '{:<' + str(l+1) + '}' for l in lengths]  #concatenate formatting info and return a list of format strings (one per column)\n",
    "form = ''.join(form)                                     #join format strings into one for entire row\n",
    "\n",
    "#Insert data\n",
    "data = df.loc[0]                             #get line of data to be formatted\n",
    "line = form.format(data[0],data[1],data[2])  #insert data into format string\n",
    "print(line)\n"
   ]
  },
  {
   "cell_type": "code",
   "execution_count": null,
   "metadata": {},
   "outputs": [],
   "source": []
  }
 ],
 "metadata": {
  "kernelspec": {
   "display_name": "Python 3",
   "language": "python",
   "name": "python3"
  },
  "language_info": {
   "codemirror_mode": {
    "name": "ipython",
    "version": 3
   },
   "file_extension": ".py",
   "mimetype": "text/x-python",
   "name": "python",
   "nbconvert_exporter": "python",
   "pygments_lexer": "ipython3",
   "version": "3.6.2"
  }
 },
 "nbformat": 4,
 "nbformat_minor": 2
}
