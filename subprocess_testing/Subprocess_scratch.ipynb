{
 "cells": [
  {
   "cell_type": "code",
   "execution_count": 2,
   "metadata": {},
   "outputs": [],
   "source": [
    "import subprocess"
   ]
  },
  {
   "cell_type": "code",
   "execution_count": 56,
   "metadata": {},
   "outputs": [
    {
     "name": "stdout",
     "output_type": "stream",
     "text": [
      "\n",
      "\n",
      "                                  MODFLOW-2005     \n",
      "\n",
      "    U.S. GEOLOGICAL SURVEY MODULAR FINITE-DIFFERENCE GROUND-WATER FLOW MODEL\n",
      "\n",
      "                             Version 1.8.00 12/18/2009                       \n",
      "\n",
      "\n",
      "\n",
      " Using NAME file: Name.txt \n",
      "\n",
      " Run start date and time (yyyy/mm/dd hh:mm:ss): 2018/11/22 13:26:06\n",
      "\n",
      "\n",
      "\n",
      " Solving:  Stress period:     1    Time step:     1    Ground-Water Flow Eqn.\n",
      "\n",
      " Run end date and time (yyyy/mm/dd hh:mm:ss): 2018/11/22 13:26:06\n",
      "\n",
      " Elapsed run time:  0.017 Seconds\n",
      "\n",
      "\n",
      "\n",
      "  Normal termination of simulation\n",
      "\n"
     ]
    }
   ],
   "source": [
    "#Running external programs:\n",
    "#Goal: run SWMM with new .inp and generate .rpt and .out files\n",
    "exe = 'mf.exe'\n",
    "inputfile = 'Name.txt'\n",
    "p = subprocess.Popen([exe,inputfile], stdout=subprocess.PIPE, stderr=subprocess.PIPE, universal_newlines=True)\n",
    "#stdout, stderr = p.communicate()\n",
    "#print(stdout, stderr)\n",
    "\n",
    "#with p.stdout:\n",
    "    #for line in iter(p.stdout.readline,b''):\n",
    "        #print(line)\n",
    "\n",
    "lines = []\n",
    "for line in p.stdout:\n",
    "    lines.append(line)\n",
    "    print(line)\n",
    "    \n",
    "    \n",
    "output = stdout.decode('utf-8').strip()\n",
    "output = output.split('\\r\\n')\n",
    "#print(output[0])\n",
    "#print(output[-1])\n",
    "#for line in p.stderr:\n",
    "    #print(line)\n",
    "#p.wait()\n",
    "#print(stderr)"
   ]
  },
  {
   "cell_type": "code",
   "execution_count": 58,
   "metadata": {},
   "outputs": [
    {
     "name": "stdout",
     "output_type": "stream",
     "text": [
      ".\n",
      "\n",
      "\n"
     ]
    }
   ],
   "source": [
    "exe = 'swmm5.exe'\n",
    "inputfile = 'project.inp'\n",
    "reportfile = 'project.rpt'\n",
    "outputfile = 'project.out'\n",
    "p = subprocess.Popen([exe,inputfile, reportfile, outputfile], stdout=subprocess.PIPE, universal_newlines=True)\n",
    "\n",
    "for line in p.stdout:\n",
    "    print(line)\n"
   ]
  },
  {
   "cell_type": "code",
   "execution_count": null,
   "metadata": {},
   "outputs": [],
   "source": []
  }
 ],
 "metadata": {
  "kernelspec": {
   "display_name": "Python 3",
   "language": "python",
   "name": "python3"
  },
  "language_info": {
   "codemirror_mode": {
    "name": "ipython",
    "version": 3
   },
   "file_extension": ".py",
   "mimetype": "text/x-python",
   "name": "python",
   "nbconvert_exporter": "python",
   "pygments_lexer": "ipython3",
   "version": "3.6.2"
  }
 },
 "nbformat": 4,
 "nbformat_minor": 2
}
