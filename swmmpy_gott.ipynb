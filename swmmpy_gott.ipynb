{
 "cells": [
  {
   "cell_type": "markdown",
   "metadata": {},
   "source": [
    "## Gottesacker SWMM model\n",
    "Based on Zhao Chen's Gottesacker model.\n",
    "***\n",
    "**Functions:**\n",
    "<br>- Writes SWMM project.inp files using a template (template.inp) - searches for placeholder strings in the template and replaces them with data from a pandas dataframe. Dataframes can be created manually, or loaded from .csv files.\n",
    "<br>- Run SWMM using the specified project.inp file\n",
    "<br>\n",
    "<br>\n",
    "**Goals:**\n",
    "<br>- Import results from project.rpt file as pandas dataframes\n",
    "***\n",
    "**Files needed:**\n",
    "<br>- template.inp\n",
    "<br>- swmm5.exe\n",
    "<br>- swmm5.dll\n",
    "<br>\n",
    "<br>\n",
    "**Packages needed:**\n",
    "<br>- pandas\n",
    "<br>- numpy\n",
    "<br>- subprocess\n",
    "<br>- swmmtoolbox\n",
    "\n",
    "**Notes:**\n",
    "<br>- template.inp files must not have any commas in them (otherwise the importer thinks they are column breaks)\n",
    "<br>- placeholders in template.inp files must not have any other characters (even spaces) in the same line"
   ]
  },
  {
   "cell_type": "code",
   "execution_count": 1,
   "metadata": {},
   "outputs": [],
   "source": [
    "import pandas as pd\n",
    "import numpy as np\n",
    "import subprocess as sb\n",
    "import swmmpy as sp\n",
    "import importlib\n",
    "from swmmtoolbox import swmmtoolbox as st\n",
    "import matplotlib.pyplot as plt\n",
    "#Embed matplotlib figures into notebooks:\n",
    "%matplotlib inline"
   ]
  },
  {
   "cell_type": "code",
   "execution_count": 2,
   "metadata": {},
   "outputs": [
    {
     "data": {
      "text/plain": [
       "<module 'swmmpy' from 'C:\\\\Users\\\\Chloe\\\\Documents\\\\GitHub\\\\swmm\\\\swmmpy_module\\\\swmmpy.py'>"
      ]
     },
     "execution_count": 2,
     "metadata": {},
     "output_type": "execute_result"
    }
   ],
   "source": [
    "importlib.reload(sp)"
   ]
  },
  {
   "cell_type": "code",
   "execution_count": 2,
   "metadata": {},
   "outputs": [],
   "source": [
    "#File structure and naming:\n",
    "\n",
    "exe =               'swmm5.exe'                                             #filename for swmm executable\n",
    "template_filename = 'template.inp'                                          #filename for template .inp file to import\n",
    "projectname =       'gott'                                             #name to use when writing new .inp file, and .pt and .out files\n",
    "\n",
    "inputfile =          projectname+'.inp'                                     #filename to write new .inp file to\n",
    "reportfile =         projectname+'.rpt'                                     #filename to write .rpt file to\n",
    "outputfile =         projectname+'.out'                                     #filename to write .out file to\n",
    "\n",
    "data_filenames =    ['junctions.csv', 'conduits.csv']                       #csv filenames with data to insert into the .inp file\n",
    "placeholders =      ['junctions', 'conduits']                               #placeholder strings to search for and replace with data\n"
   ]
  },
  {
   "cell_type": "code",
   "execution_count": 3,
   "metadata": {},
   "outputs": [],
   "source": [
    "#Write a SWMM input file using a template and data csv files:\n",
    "sp.write_input(inputfile, placeholders, data_filenames)"
   ]
  },
  {
   "cell_type": "code",
   "execution_count": 5,
   "metadata": {},
   "outputs": [],
   "source": [
    "#Debugging section\n",
    "run = False\n",
    "if run == True:\n",
    "    #Manual functions:\n",
    "    template = pd.read_csv(template_filename, header=None, skip_blank_lines=False)  #import template .inp file to dataframe\n",
    "    print(template.iloc[50:55])\n",
    "\n",
    "\n",
    "    for i in range(len(placeholders)):                                          #loop over list of placeholders\n",
    "        data = sp.import_data(data_filenames[i])                                   #import data to insert from csv\n",
    "        template = sp.insert_data(template,  placeholders[i], data)                #replace placeholder string with data\n",
    "    print(template.iloc[50:55])\n",
    "\n",
    "    template.to_csv(inputfile, header=False, index=False, quoting=3)                       #write dataframe to .inp text file with specified name\n",
    "    temp = pd.read_csv(inputfile, header=None, skip_blank_lines=False)  #import template .inp file to dataframe\n",
    "    print(temp.iloc[50:55])\n",
    "    \n",
    "    #Run SWMM with original .inp file:\n",
    "    p = sb.Popen([exe, 'tutorial1_original.inp', 'tutorial1_original.rpt', 'tutorial1_original.out'], stdout=sb.PIPE, universal_newlines=True)          #run SWMM (and report process output)\n",
    "    for line in p.stdout:          #for each line of process output\n",
    "        if 'hour' not in line:     #if the line doesn't include the string 'hour' (to avoid a huge mass of text for each timestep)\n",
    "            print(line) \n",
    "        \n",
    "    #Run SWMM with new input file:\n",
    "    p = sb.Popen([exe, 'tutorial1.inp', 'tutorial1.rpt', 'tutorial1.out'], stdout=sb.PIPE, universal_newlines=True)          #run SWMM (and report process output)\n",
    "    for line in p.stdout:          #for each line of process output\n",
    "        if 'hour' not in line:     #if the line doesn't include the string 'hour' (to avoid a huge mass of text for each timestep)\n",
    "            print(line)"
   ]
  },
  {
   "cell_type": "code",
   "execution_count": 4,
   "metadata": {},
   "outputs": [
    {
     "name": "stdout",
     "output_type": "stream",
     "text": [
      "\n",
      "\n",
      " o  Retrieving project data\n",
      "\n",
      "... EPA-SWMM 5.1 (Build 5.1.13)\n",
      "\n",
      "\n",
      "\n",
      "\n",
      "\n",
      "... EPA-SWMM completed in 50.00 seconds. There are warnings.\n",
      "\n"
     ]
    }
   ],
   "source": [
    "#Run SWMM with original .inp and generate .rpt and .out files   \n",
    "sp.run('zhao_original.inp', 'zhao_original.rpt', 'zhao_original.out')"
   ]
  },
  {
   "cell_type": "code",
   "execution_count": 34,
   "metadata": {},
   "outputs": [
    {
     "name": "stdout",
     "output_type": "stream",
     "text": [
      "Available outflow nodes:\t ['3001' '3002' '3003' '3005']\n",
      "Available data types:\t ['Depth_above_invert' 'Hydraulic_head' 'Volume_stored_ponded'\n",
      " 'Lateral_inflow' 'Total_inflow' 'Flow_lost_flooding']\n",
      "node,3003,Hydraulic_head\n"
     ]
    },
    {
     "data": {
      "text/plain": [
       "[<matplotlib.lines.Line2D at 0x1f4edcac0b8>]"
      ]
     },
     "execution_count": 34,
     "metadata": {},
     "output_type": "execute_result"
    },
    {
     "data": {
      "image/png": "[encoded data removed]",
      "text/plain": [
       "<matplotlib.figure.Figure at 0x1f4ee0937b8>"
      ]
     },
     "metadata": {},
     "output_type": "display_data"
    }
   ],
   "source": [
    "#Read outputs with original files:\n",
    "#Output file:\n",
    "node_info = st.catalog('zhao_original.out', itemtype='node')\n",
    "node_info = pd.DataFrame(nodes, columns=['itemtype','name','datatype'])\n",
    "nodenames = node_info.name.unique()\n",
    "datatypes = node_info.datatype.unique()\n",
    "print('Available outflow nodes:\\t', nodenames)\n",
    "print('Available data types:\\t',    datatypes)\n",
    "label = '{},{},{}'.format(node_info.itemtype[0], nodenames[2], datatypes[1])\n",
    "print(label)\n",
    "nodeHead = st.extract('zhao_original.out', label)\n",
    "plt.plot(nodeHead)"
   ]
  },
  {
   "cell_type": "code",
   "execution_count": 11,
   "metadata": {},
   "outputs": [
    {
     "name": "stdout",
     "output_type": "stream",
     "text": [
      "\n",
      "\n",
      " o  Retrieving project data\n",
      "\n",
      "... EPA-SWMM 5.1 (Build 5.1.13)\n",
      "\n",
      "\n",
      "\n",
      "\n",
      "\n",
      "... EPA-SWMM completed in 51.00 seconds. There are warnings.\n",
      "\n"
     ]
    }
   ],
   "source": [
    "#Run SWMM with new .inp and generate .rpt and .out files   \n",
    "sp.run(inputfile, reportfile, outputfile)"
   ]
  },
  {
   "cell_type": "code",
   "execution_count": 35,
   "metadata": {},
   "outputs": [
    {
     "name": "stdout",
     "output_type": "stream",
     "text": [
      "Available outflow nodes:\t ['3001' '3002' '3003' '3005']\n",
      "Available data types:\t ['Depth_above_invert' 'Hydraulic_head' 'Volume_stored_ponded'\n",
      " 'Lateral_inflow' 'Total_inflow' 'Flow_lost_flooding']\n",
      "node,3003,Hydraulic_head\n"
     ]
    },
    {
     "data": {
      "text/plain": [
       "[<matplotlib.lines.Line2D at 0x1f4ee210320>]"
      ]
     },
     "execution_count": 35,
     "metadata": {},
     "output_type": "execute_result"
    },
    {
     "data": {
      "image/png": "[encoded data removed]",
      "text/plain": [
       "<matplotlib.figure.Figure at 0x1f4edc25a58>"
      ]
     },
     "metadata": {},
     "output_type": "display_data"
    }
   ],
   "source": [
    "#Read outputs:\n",
    "\n",
    "#Report file:\n",
    "report = pd.read_table(reportfile, header=None)  #read report file into dataframe\n",
    "\n",
    "#Output file:\n",
    "node_info = st.catalog('zhao_original.out', itemtype='node')\n",
    "node_info = pd.DataFrame(nodes, columns=['itemtype','name','datatype'])\n",
    "nodenames = node_info.name.unique()\n",
    "datatypes = node_info.datatype.unique()\n",
    "print('Available outflow nodes:\\t', nodenames)\n",
    "print('Available data types:\\t',    datatypes)\n",
    "label = '{},{},{}'.format(node_info.itemtype[0], nodenames[2], datatypes[1])\n",
    "print(label)\n",
    "nodeHead = st.extract('zhao_original.out', label)\n",
    "plt.plot(nodeHead)"
   ]
  },
  {
   "cell_type": "code",
   "execution_count": 55,
   "metadata": {},
   "outputs": [
    {
     "name": "stdout",
     "output_type": "stream",
     "text": [
      "node_3003_Hydraulic_head    1030.0\n",
      "Name: 2013-11-15 02:00:00, dtype: float64\n"
     ]
    }
   ],
   "source": [
    "#Compare to paper plot:\n",
    "#AUGHHHH whoever wrote this toolbox has no idea how to format things!!!\n",
    "#Need to convert to a usable two-column format...\n",
    "print(nodeHead.iloc[2,:])"
   ]
  },
  {
   "cell_type": "code",
   "execution_count": null,
   "metadata": {},
   "outputs": [],
   "source": []
  }
 ],
 "metadata": {
  "kernelspec": {
   "display_name": "Python 3",
   "language": "python",
   "name": "python3"
  },
  "language_info": {
   "codemirror_mode": {
    "name": "ipython",
    "version": 3
   },
   "file_extension": ".py",
   "mimetype": "text/x-python",
   "name": "python",
   "nbconvert_exporter": "python",
   "pygments_lexer": "ipython3",
   "version": "3.6.2"
  }
 },
 "nbformat": 4,
 "nbformat_minor": 2
}
